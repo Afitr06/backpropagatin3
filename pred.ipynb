{
  "nbformat": 4,
  "nbformat_minor": 0,
  "metadata": {
    "colab": {
      "provenance": [],
      "authorship_tag": "ABX9TyNzLpDQ0BUT1SoJr0JN14EG",
      "include_colab_link": true
    },
    "kernelspec": {
      "name": "python3",
      "display_name": "Python 3"
    },
    "language_info": {
      "name": "python"
    }
  },
  "cells": [
    {
      "cell_type": "markdown",
      "metadata": {
        "id": "view-in-github",
        "colab_type": "text"
      },
      "source": [
        "<a href=\"https://colab.research.google.com/github/Afitr06/backpropagatin3/blob/main/pred.ipynb\" target=\"_parent\"><img src=\"https://colab.research.google.com/assets/colab-badge.svg\" alt=\"Open In Colab\"/></a>"
      ]
    },
    {
      "cell_type": "code",
      "execution_count": 9,
      "metadata": {
        "id": "Z4YzXvbKl29o"
      },
      "outputs": [],
      "source": [
        "# import packages\n",
        "import pandas as pd\n",
        "import numpy as np"
      ]
    },
    {
      "cell_type": "code",
      "source": [
        "#memasukan data\n",
        "predikat = pd.read_csv ('data.csv')\n",
        "predikat\n",
        "# membaca 5 data\n",
        "\n",
        "predikat.head()"
      ],
      "metadata": {
        "colab": {
          "base_uri": "https://localhost:8080/",
          "height": 206
        },
        "id": "ht7OF8h-mK33",
        "outputId": "9d9ba62c-2c17-488d-a4c2-e38a5b2b53f7"
      },
      "execution_count": 10,
      "outputs": [
        {
          "output_type": "execute_result",
          "data": {
            "text/plain": [
              "       NPM         Nama Lengkap  IPK1  IPK2  IPK3  IPK4  IPK5  IPK6  IPK7  \\\n",
              "0  1706003    Adam Fakhrul Rozi  3.04  3.14  2.94  2.93  2.93  2.99  3.02   \n",
              "1  1706004     Rival Firmansyah  3.10  3.10  3.11  3.06  3.08  3.13  3.18   \n",
              "2  1706005        Ihsan Nugraha  3.92  3.89  3.86  3.83  3.86  3.86  3.86   \n",
              "3  1706007  Rizky Safta Maolani  3.57  3.49  3.41  3.35  3.43  3.43  3.45   \n",
              "4  1706009      Abdul Kamaludin  3.10  3.30  3.21  3.25  3.32  3.37  3.39   \n",
              "\n",
              "   IPK8 Status  \n",
              "0  3.08      L  \n",
              "1  3.25      L  \n",
              "2  3.87      L  \n",
              "3  3.47      L  \n",
              "4  3.44      L  "
            ],
            "text/html": [
              "\n",
              "  <div id=\"df-ce075207-56a5-4a24-b8ee-d249f9078c60\">\n",
              "    <div class=\"colab-df-container\">\n",
              "      <div>\n",
              "<style scoped>\n",
              "    .dataframe tbody tr th:only-of-type {\n",
              "        vertical-align: middle;\n",
              "    }\n",
              "\n",
              "    .dataframe tbody tr th {\n",
              "        vertical-align: top;\n",
              "    }\n",
              "\n",
              "    .dataframe thead th {\n",
              "        text-align: right;\n",
              "    }\n",
              "</style>\n",
              "<table border=\"1\" class=\"dataframe\">\n",
              "  <thead>\n",
              "    <tr style=\"text-align: right;\">\n",
              "      <th></th>\n",
              "      <th>NPM</th>\n",
              "      <th>Nama Lengkap</th>\n",
              "      <th>IPK1</th>\n",
              "      <th>IPK2</th>\n",
              "      <th>IPK3</th>\n",
              "      <th>IPK4</th>\n",
              "      <th>IPK5</th>\n",
              "      <th>IPK6</th>\n",
              "      <th>IPK7</th>\n",
              "      <th>IPK8</th>\n",
              "      <th>Status</th>\n",
              "    </tr>\n",
              "  </thead>\n",
              "  <tbody>\n",
              "    <tr>\n",
              "      <th>0</th>\n",
              "      <td>1706003</td>\n",
              "      <td>Adam Fakhrul Rozi</td>\n",
              "      <td>3.04</td>\n",
              "      <td>3.14</td>\n",
              "      <td>2.94</td>\n",
              "      <td>2.93</td>\n",
              "      <td>2.93</td>\n",
              "      <td>2.99</td>\n",
              "      <td>3.02</td>\n",
              "      <td>3.08</td>\n",
              "      <td>L</td>\n",
              "    </tr>\n",
              "    <tr>\n",
              "      <th>1</th>\n",
              "      <td>1706004</td>\n",
              "      <td>Rival Firmansyah</td>\n",
              "      <td>3.10</td>\n",
              "      <td>3.10</td>\n",
              "      <td>3.11</td>\n",
              "      <td>3.06</td>\n",
              "      <td>3.08</td>\n",
              "      <td>3.13</td>\n",
              "      <td>3.18</td>\n",
              "      <td>3.25</td>\n",
              "      <td>L</td>\n",
              "    </tr>\n",
              "    <tr>\n",
              "      <th>2</th>\n",
              "      <td>1706005</td>\n",
              "      <td>Ihsan Nugraha</td>\n",
              "      <td>3.92</td>\n",
              "      <td>3.89</td>\n",
              "      <td>3.86</td>\n",
              "      <td>3.83</td>\n",
              "      <td>3.86</td>\n",
              "      <td>3.86</td>\n",
              "      <td>3.86</td>\n",
              "      <td>3.87</td>\n",
              "      <td>L</td>\n",
              "    </tr>\n",
              "    <tr>\n",
              "      <th>3</th>\n",
              "      <td>1706007</td>\n",
              "      <td>Rizky Safta Maolani</td>\n",
              "      <td>3.57</td>\n",
              "      <td>3.49</td>\n",
              "      <td>3.41</td>\n",
              "      <td>3.35</td>\n",
              "      <td>3.43</td>\n",
              "      <td>3.43</td>\n",
              "      <td>3.45</td>\n",
              "      <td>3.47</td>\n",
              "      <td>L</td>\n",
              "    </tr>\n",
              "    <tr>\n",
              "      <th>4</th>\n",
              "      <td>1706009</td>\n",
              "      <td>Abdul Kamaludin</td>\n",
              "      <td>3.10</td>\n",
              "      <td>3.30</td>\n",
              "      <td>3.21</td>\n",
              "      <td>3.25</td>\n",
              "      <td>3.32</td>\n",
              "      <td>3.37</td>\n",
              "      <td>3.39</td>\n",
              "      <td>3.44</td>\n",
              "      <td>L</td>\n",
              "    </tr>\n",
              "  </tbody>\n",
              "</table>\n",
              "</div>\n",
              "      <button class=\"colab-df-convert\" onclick=\"convertToInteractive('df-ce075207-56a5-4a24-b8ee-d249f9078c60')\"\n",
              "              title=\"Convert this dataframe to an interactive table.\"\n",
              "              style=\"display:none;\">\n",
              "        \n",
              "  <svg xmlns=\"http://www.w3.org/2000/svg\" height=\"24px\"viewBox=\"0 0 24 24\"\n",
              "       width=\"24px\">\n",
              "    <path d=\"M0 0h24v24H0V0z\" fill=\"none\"/>\n",
              "    <path d=\"M18.56 5.44l.94 2.06.94-2.06 2.06-.94-2.06-.94-.94-2.06-.94 2.06-2.06.94zm-11 1L8.5 8.5l.94-2.06 2.06-.94-2.06-.94L8.5 2.5l-.94 2.06-2.06.94zm10 10l.94 2.06.94-2.06 2.06-.94-2.06-.94-.94-2.06-.94 2.06-2.06.94z\"/><path d=\"M17.41 7.96l-1.37-1.37c-.4-.4-.92-.59-1.43-.59-.52 0-1.04.2-1.43.59L10.3 9.45l-7.72 7.72c-.78.78-.78 2.05 0 2.83L4 21.41c.39.39.9.59 1.41.59.51 0 1.02-.2 1.41-.59l7.78-7.78 2.81-2.81c.8-.78.8-2.07 0-2.86zM5.41 20L4 18.59l7.72-7.72 1.47 1.35L5.41 20z\"/>\n",
              "  </svg>\n",
              "      </button>\n",
              "      \n",
              "  <style>\n",
              "    .colab-df-container {\n",
              "      display:flex;\n",
              "      flex-wrap:wrap;\n",
              "      gap: 12px;\n",
              "    }\n",
              "\n",
              "    .colab-df-convert {\n",
              "      background-color: #E8F0FE;\n",
              "      border: none;\n",
              "      border-radius: 50%;\n",
              "      cursor: pointer;\n",
              "      display: none;\n",
              "      fill: #1967D2;\n",
              "      height: 32px;\n",
              "      padding: 0 0 0 0;\n",
              "      width: 32px;\n",
              "    }\n",
              "\n",
              "    .colab-df-convert:hover {\n",
              "      background-color: #E2EBFA;\n",
              "      box-shadow: 0px 1px 2px rgba(60, 64, 67, 0.3), 0px 1px 3px 1px rgba(60, 64, 67, 0.15);\n",
              "      fill: #174EA6;\n",
              "    }\n",
              "\n",
              "    [theme=dark] .colab-df-convert {\n",
              "      background-color: #3B4455;\n",
              "      fill: #D2E3FC;\n",
              "    }\n",
              "\n",
              "    [theme=dark] .colab-df-convert:hover {\n",
              "      background-color: #434B5C;\n",
              "      box-shadow: 0px 1px 3px 1px rgba(0, 0, 0, 0.15);\n",
              "      filter: drop-shadow(0px 1px 2px rgba(0, 0, 0, 0.3));\n",
              "      fill: #FFFFFF;\n",
              "    }\n",
              "  </style>\n",
              "\n",
              "      <script>\n",
              "        const buttonEl =\n",
              "          document.querySelector('#df-ce075207-56a5-4a24-b8ee-d249f9078c60 button.colab-df-convert');\n",
              "        buttonEl.style.display =\n",
              "          google.colab.kernel.accessAllowed ? 'block' : 'none';\n",
              "\n",
              "        async function convertToInteractive(key) {\n",
              "          const element = document.querySelector('#df-ce075207-56a5-4a24-b8ee-d249f9078c60');\n",
              "          const dataTable =\n",
              "            await google.colab.kernel.invokeFunction('convertToInteractive',\n",
              "                                                     [key], {});\n",
              "          if (!dataTable) return;\n",
              "\n",
              "          const docLinkHtml = 'Like what you see? Visit the ' +\n",
              "            '<a target=\"_blank\" href=https://colab.research.google.com/notebooks/data_table.ipynb>data table notebook</a>'\n",
              "            + ' to learn more about interactive tables.';\n",
              "          element.innerHTML = '';\n",
              "          dataTable['output_type'] = 'display_data';\n",
              "          await google.colab.output.renderOutput(dataTable, element);\n",
              "          const docLink = document.createElement('div');\n",
              "          docLink.innerHTML = docLinkHtml;\n",
              "          element.appendChild(docLink);\n",
              "        }\n",
              "      </script>\n",
              "    </div>\n",
              "  </div>\n",
              "  "
            ]
          },
          "metadata": {},
          "execution_count": 10
        }
      ]
    },
    {
      "cell_type": "code",
      "source": [
        "# melihat data yang akan di gunakan\n",
        "predikat.info()"
      ],
      "metadata": {
        "colab": {
          "base_uri": "https://localhost:8080/"
        },
        "id": "0nvrws2yoAl_",
        "outputId": "ce335709-89ef-4255-d3ca-c9bc7a4eca25"
      },
      "execution_count": 11,
      "outputs": [
        {
          "output_type": "stream",
          "name": "stdout",
          "text": [
            "<class 'pandas.core.frame.DataFrame'>\n",
            "RangeIndex: 675 entries, 0 to 674\n",
            "Data columns (total 11 columns):\n",
            " #   Column        Non-Null Count  Dtype  \n",
            "---  ------        --------------  -----  \n",
            " 0   NPM           675 non-null    int64  \n",
            " 1   Nama Lengkap  675 non-null    object \n",
            " 2   IPK1          675 non-null    float64\n",
            " 3   IPK2          675 non-null    float64\n",
            " 4   IPK3          675 non-null    float64\n",
            " 5   IPK4          675 non-null    float64\n",
            " 6   IPK5          675 non-null    float64\n",
            " 7   IPK6          675 non-null    float64\n",
            " 8   IPK7          670 non-null    float64\n",
            " 9   IPK8          547 non-null    float64\n",
            " 10  Status        675 non-null    object \n",
            "dtypes: float64(8), int64(1), object(2)\n",
            "memory usage: 58.1+ KB\n"
          ]
        }
      ]
    },
    {
      "cell_type": "code",
      "source": [
        "def ubahPredikat(data):\n",
        "  predikat = []\n",
        "  i = 0;\n",
        "  for ipk in data: \n",
        "    if ipk >= 3.5 and ipk < 4.0:\n",
        "      predikat.append(3); #pujian\n",
        "    elif ipk >= 2.75 and ipk < 3.5:\n",
        "      predikat.append(2) #memuaskan\n",
        "    elif ipk >= 2.50 and ipk < 2.75:\n",
        "      predikat.append(1) #cukup\n",
        "    else:\n",
        "      predikat.append(0) #tidak masuk kriteria\n",
        "  \n",
        "  return predikat\n",
        "\n",
        "predikat['pred'] = ubahPredikat(predikat[\"IPK8\"])"
      ],
      "metadata": {
        "id": "leGzUxGbPfYb"
      },
      "execution_count": 12,
      "outputs": []
    },
    {
      "cell_type": "code",
      "source": [
        "predikat.head()"
      ],
      "metadata": {
        "colab": {
          "base_uri": "https://localhost:8080/",
          "height": 206
        },
        "id": "YV2Kxg6IT4SM",
        "outputId": "26c5e871-173f-4ad5-f725-548beb3b4cb9"
      },
      "execution_count": 13,
      "outputs": [
        {
          "output_type": "execute_result",
          "data": {
            "text/plain": [
              "       NPM         Nama Lengkap  IPK1  IPK2  IPK3  IPK4  IPK5  IPK6  IPK7  \\\n",
              "0  1706003    Adam Fakhrul Rozi  3.04  3.14  2.94  2.93  2.93  2.99  3.02   \n",
              "1  1706004     Rival Firmansyah  3.10  3.10  3.11  3.06  3.08  3.13  3.18   \n",
              "2  1706005        Ihsan Nugraha  3.92  3.89  3.86  3.83  3.86  3.86  3.86   \n",
              "3  1706007  Rizky Safta Maolani  3.57  3.49  3.41  3.35  3.43  3.43  3.45   \n",
              "4  1706009      Abdul Kamaludin  3.10  3.30  3.21  3.25  3.32  3.37  3.39   \n",
              "\n",
              "   IPK8 Status  pred  \n",
              "0  3.08      L     2  \n",
              "1  3.25      L     2  \n",
              "2  3.87      L     3  \n",
              "3  3.47      L     2  \n",
              "4  3.44      L     2  "
            ],
            "text/html": [
              "\n",
              "  <div id=\"df-0bce4a76-eef3-4ba7-a7c0-2ab4f20737c3\">\n",
              "    <div class=\"colab-df-container\">\n",
              "      <div>\n",
              "<style scoped>\n",
              "    .dataframe tbody tr th:only-of-type {\n",
              "        vertical-align: middle;\n",
              "    }\n",
              "\n",
              "    .dataframe tbody tr th {\n",
              "        vertical-align: top;\n",
              "    }\n",
              "\n",
              "    .dataframe thead th {\n",
              "        text-align: right;\n",
              "    }\n",
              "</style>\n",
              "<table border=\"1\" class=\"dataframe\">\n",
              "  <thead>\n",
              "    <tr style=\"text-align: right;\">\n",
              "      <th></th>\n",
              "      <th>NPM</th>\n",
              "      <th>Nama Lengkap</th>\n",
              "      <th>IPK1</th>\n",
              "      <th>IPK2</th>\n",
              "      <th>IPK3</th>\n",
              "      <th>IPK4</th>\n",
              "      <th>IPK5</th>\n",
              "      <th>IPK6</th>\n",
              "      <th>IPK7</th>\n",
              "      <th>IPK8</th>\n",
              "      <th>Status</th>\n",
              "      <th>pred</th>\n",
              "    </tr>\n",
              "  </thead>\n",
              "  <tbody>\n",
              "    <tr>\n",
              "      <th>0</th>\n",
              "      <td>1706003</td>\n",
              "      <td>Adam Fakhrul Rozi</td>\n",
              "      <td>3.04</td>\n",
              "      <td>3.14</td>\n",
              "      <td>2.94</td>\n",
              "      <td>2.93</td>\n",
              "      <td>2.93</td>\n",
              "      <td>2.99</td>\n",
              "      <td>3.02</td>\n",
              "      <td>3.08</td>\n",
              "      <td>L</td>\n",
              "      <td>2</td>\n",
              "    </tr>\n",
              "    <tr>\n",
              "      <th>1</th>\n",
              "      <td>1706004</td>\n",
              "      <td>Rival Firmansyah</td>\n",
              "      <td>3.10</td>\n",
              "      <td>3.10</td>\n",
              "      <td>3.11</td>\n",
              "      <td>3.06</td>\n",
              "      <td>3.08</td>\n",
              "      <td>3.13</td>\n",
              "      <td>3.18</td>\n",
              "      <td>3.25</td>\n",
              "      <td>L</td>\n",
              "      <td>2</td>\n",
              "    </tr>\n",
              "    <tr>\n",
              "      <th>2</th>\n",
              "      <td>1706005</td>\n",
              "      <td>Ihsan Nugraha</td>\n",
              "      <td>3.92</td>\n",
              "      <td>3.89</td>\n",
              "      <td>3.86</td>\n",
              "      <td>3.83</td>\n",
              "      <td>3.86</td>\n",
              "      <td>3.86</td>\n",
              "      <td>3.86</td>\n",
              "      <td>3.87</td>\n",
              "      <td>L</td>\n",
              "      <td>3</td>\n",
              "    </tr>\n",
              "    <tr>\n",
              "      <th>3</th>\n",
              "      <td>1706007</td>\n",
              "      <td>Rizky Safta Maolani</td>\n",
              "      <td>3.57</td>\n",
              "      <td>3.49</td>\n",
              "      <td>3.41</td>\n",
              "      <td>3.35</td>\n",
              "      <td>3.43</td>\n",
              "      <td>3.43</td>\n",
              "      <td>3.45</td>\n",
              "      <td>3.47</td>\n",
              "      <td>L</td>\n",
              "      <td>2</td>\n",
              "    </tr>\n",
              "    <tr>\n",
              "      <th>4</th>\n",
              "      <td>1706009</td>\n",
              "      <td>Abdul Kamaludin</td>\n",
              "      <td>3.10</td>\n",
              "      <td>3.30</td>\n",
              "      <td>3.21</td>\n",
              "      <td>3.25</td>\n",
              "      <td>3.32</td>\n",
              "      <td>3.37</td>\n",
              "      <td>3.39</td>\n",
              "      <td>3.44</td>\n",
              "      <td>L</td>\n",
              "      <td>2</td>\n",
              "    </tr>\n",
              "  </tbody>\n",
              "</table>\n",
              "</div>\n",
              "      <button class=\"colab-df-convert\" onclick=\"convertToInteractive('df-0bce4a76-eef3-4ba7-a7c0-2ab4f20737c3')\"\n",
              "              title=\"Convert this dataframe to an interactive table.\"\n",
              "              style=\"display:none;\">\n",
              "        \n",
              "  <svg xmlns=\"http://www.w3.org/2000/svg\" height=\"24px\"viewBox=\"0 0 24 24\"\n",
              "       width=\"24px\">\n",
              "    <path d=\"M0 0h24v24H0V0z\" fill=\"none\"/>\n",
              "    <path d=\"M18.56 5.44l.94 2.06.94-2.06 2.06-.94-2.06-.94-.94-2.06-.94 2.06-2.06.94zm-11 1L8.5 8.5l.94-2.06 2.06-.94-2.06-.94L8.5 2.5l-.94 2.06-2.06.94zm10 10l.94 2.06.94-2.06 2.06-.94-2.06-.94-.94-2.06-.94 2.06-2.06.94z\"/><path d=\"M17.41 7.96l-1.37-1.37c-.4-.4-.92-.59-1.43-.59-.52 0-1.04.2-1.43.59L10.3 9.45l-7.72 7.72c-.78.78-.78 2.05 0 2.83L4 21.41c.39.39.9.59 1.41.59.51 0 1.02-.2 1.41-.59l7.78-7.78 2.81-2.81c.8-.78.8-2.07 0-2.86zM5.41 20L4 18.59l7.72-7.72 1.47 1.35L5.41 20z\"/>\n",
              "  </svg>\n",
              "      </button>\n",
              "      \n",
              "  <style>\n",
              "    .colab-df-container {\n",
              "      display:flex;\n",
              "      flex-wrap:wrap;\n",
              "      gap: 12px;\n",
              "    }\n",
              "\n",
              "    .colab-df-convert {\n",
              "      background-color: #E8F0FE;\n",
              "      border: none;\n",
              "      border-radius: 50%;\n",
              "      cursor: pointer;\n",
              "      display: none;\n",
              "      fill: #1967D2;\n",
              "      height: 32px;\n",
              "      padding: 0 0 0 0;\n",
              "      width: 32px;\n",
              "    }\n",
              "\n",
              "    .colab-df-convert:hover {\n",
              "      background-color: #E2EBFA;\n",
              "      box-shadow: 0px 1px 2px rgba(60, 64, 67, 0.3), 0px 1px 3px 1px rgba(60, 64, 67, 0.15);\n",
              "      fill: #174EA6;\n",
              "    }\n",
              "\n",
              "    [theme=dark] .colab-df-convert {\n",
              "      background-color: #3B4455;\n",
              "      fill: #D2E3FC;\n",
              "    }\n",
              "\n",
              "    [theme=dark] .colab-df-convert:hover {\n",
              "      background-color: #434B5C;\n",
              "      box-shadow: 0px 1px 3px 1px rgba(0, 0, 0, 0.15);\n",
              "      filter: drop-shadow(0px 1px 2px rgba(0, 0, 0, 0.3));\n",
              "      fill: #FFFFFF;\n",
              "    }\n",
              "  </style>\n",
              "\n",
              "      <script>\n",
              "        const buttonEl =\n",
              "          document.querySelector('#df-0bce4a76-eef3-4ba7-a7c0-2ab4f20737c3 button.colab-df-convert');\n",
              "        buttonEl.style.display =\n",
              "          google.colab.kernel.accessAllowed ? 'block' : 'none';\n",
              "\n",
              "        async function convertToInteractive(key) {\n",
              "          const element = document.querySelector('#df-0bce4a76-eef3-4ba7-a7c0-2ab4f20737c3');\n",
              "          const dataTable =\n",
              "            await google.colab.kernel.invokeFunction('convertToInteractive',\n",
              "                                                     [key], {});\n",
              "          if (!dataTable) return;\n",
              "\n",
              "          const docLinkHtml = 'Like what you see? Visit the ' +\n",
              "            '<a target=\"_blank\" href=https://colab.research.google.com/notebooks/data_table.ipynb>data table notebook</a>'\n",
              "            + ' to learn more about interactive tables.';\n",
              "          element.innerHTML = '';\n",
              "          dataTable['output_type'] = 'display_data';\n",
              "          await google.colab.output.renderOutput(dataTable, element);\n",
              "          const docLink = document.createElement('div');\n",
              "          docLink.innerHTML = docLinkHtml;\n",
              "          element.appendChild(docLink);\n",
              "        }\n",
              "      </script>\n",
              "    </div>\n",
              "  </div>\n",
              "  "
            ]
          },
          "metadata": {},
          "execution_count": 13
        }
      ]
    },
    {
      "cell_type": "code",
      "source": [
        "# menentukan variable\n",
        "x = predikat.iloc[:,2:7]\n",
        "x.head()"
      ],
      "metadata": {
        "colab": {
          "base_uri": "https://localhost:8080/",
          "height": 206
        },
        "id": "ZCEdAML9SLB2",
        "outputId": "c265961a-704a-4812-cd02-8b860a54462b"
      },
      "execution_count": 14,
      "outputs": [
        {
          "output_type": "execute_result",
          "data": {
            "text/plain": [
              "   IPK1  IPK2  IPK3  IPK4  IPK5\n",
              "0  3.04  3.14  2.94  2.93  2.93\n",
              "1  3.10  3.10  3.11  3.06  3.08\n",
              "2  3.92  3.89  3.86  3.83  3.86\n",
              "3  3.57  3.49  3.41  3.35  3.43\n",
              "4  3.10  3.30  3.21  3.25  3.32"
            ],
            "text/html": [
              "\n",
              "  <div id=\"df-6264aefd-dc71-4b05-96bb-d0dde420c198\">\n",
              "    <div class=\"colab-df-container\">\n",
              "      <div>\n",
              "<style scoped>\n",
              "    .dataframe tbody tr th:only-of-type {\n",
              "        vertical-align: middle;\n",
              "    }\n",
              "\n",
              "    .dataframe tbody tr th {\n",
              "        vertical-align: top;\n",
              "    }\n",
              "\n",
              "    .dataframe thead th {\n",
              "        text-align: right;\n",
              "    }\n",
              "</style>\n",
              "<table border=\"1\" class=\"dataframe\">\n",
              "  <thead>\n",
              "    <tr style=\"text-align: right;\">\n",
              "      <th></th>\n",
              "      <th>IPK1</th>\n",
              "      <th>IPK2</th>\n",
              "      <th>IPK3</th>\n",
              "      <th>IPK4</th>\n",
              "      <th>IPK5</th>\n",
              "    </tr>\n",
              "  </thead>\n",
              "  <tbody>\n",
              "    <tr>\n",
              "      <th>0</th>\n",
              "      <td>3.04</td>\n",
              "      <td>3.14</td>\n",
              "      <td>2.94</td>\n",
              "      <td>2.93</td>\n",
              "      <td>2.93</td>\n",
              "    </tr>\n",
              "    <tr>\n",
              "      <th>1</th>\n",
              "      <td>3.10</td>\n",
              "      <td>3.10</td>\n",
              "      <td>3.11</td>\n",
              "      <td>3.06</td>\n",
              "      <td>3.08</td>\n",
              "    </tr>\n",
              "    <tr>\n",
              "      <th>2</th>\n",
              "      <td>3.92</td>\n",
              "      <td>3.89</td>\n",
              "      <td>3.86</td>\n",
              "      <td>3.83</td>\n",
              "      <td>3.86</td>\n",
              "    </tr>\n",
              "    <tr>\n",
              "      <th>3</th>\n",
              "      <td>3.57</td>\n",
              "      <td>3.49</td>\n",
              "      <td>3.41</td>\n",
              "      <td>3.35</td>\n",
              "      <td>3.43</td>\n",
              "    </tr>\n",
              "    <tr>\n",
              "      <th>4</th>\n",
              "      <td>3.10</td>\n",
              "      <td>3.30</td>\n",
              "      <td>3.21</td>\n",
              "      <td>3.25</td>\n",
              "      <td>3.32</td>\n",
              "    </tr>\n",
              "  </tbody>\n",
              "</table>\n",
              "</div>\n",
              "      <button class=\"colab-df-convert\" onclick=\"convertToInteractive('df-6264aefd-dc71-4b05-96bb-d0dde420c198')\"\n",
              "              title=\"Convert this dataframe to an interactive table.\"\n",
              "              style=\"display:none;\">\n",
              "        \n",
              "  <svg xmlns=\"http://www.w3.org/2000/svg\" height=\"24px\"viewBox=\"0 0 24 24\"\n",
              "       width=\"24px\">\n",
              "    <path d=\"M0 0h24v24H0V0z\" fill=\"none\"/>\n",
              "    <path d=\"M18.56 5.44l.94 2.06.94-2.06 2.06-.94-2.06-.94-.94-2.06-.94 2.06-2.06.94zm-11 1L8.5 8.5l.94-2.06 2.06-.94-2.06-.94L8.5 2.5l-.94 2.06-2.06.94zm10 10l.94 2.06.94-2.06 2.06-.94-2.06-.94-.94-2.06-.94 2.06-2.06.94z\"/><path d=\"M17.41 7.96l-1.37-1.37c-.4-.4-.92-.59-1.43-.59-.52 0-1.04.2-1.43.59L10.3 9.45l-7.72 7.72c-.78.78-.78 2.05 0 2.83L4 21.41c.39.39.9.59 1.41.59.51 0 1.02-.2 1.41-.59l7.78-7.78 2.81-2.81c.8-.78.8-2.07 0-2.86zM5.41 20L4 18.59l7.72-7.72 1.47 1.35L5.41 20z\"/>\n",
              "  </svg>\n",
              "      </button>\n",
              "      \n",
              "  <style>\n",
              "    .colab-df-container {\n",
              "      display:flex;\n",
              "      flex-wrap:wrap;\n",
              "      gap: 12px;\n",
              "    }\n",
              "\n",
              "    .colab-df-convert {\n",
              "      background-color: #E8F0FE;\n",
              "      border: none;\n",
              "      border-radius: 50%;\n",
              "      cursor: pointer;\n",
              "      display: none;\n",
              "      fill: #1967D2;\n",
              "      height: 32px;\n",
              "      padding: 0 0 0 0;\n",
              "      width: 32px;\n",
              "    }\n",
              "\n",
              "    .colab-df-convert:hover {\n",
              "      background-color: #E2EBFA;\n",
              "      box-shadow: 0px 1px 2px rgba(60, 64, 67, 0.3), 0px 1px 3px 1px rgba(60, 64, 67, 0.15);\n",
              "      fill: #174EA6;\n",
              "    }\n",
              "\n",
              "    [theme=dark] .colab-df-convert {\n",
              "      background-color: #3B4455;\n",
              "      fill: #D2E3FC;\n",
              "    }\n",
              "\n",
              "    [theme=dark] .colab-df-convert:hover {\n",
              "      background-color: #434B5C;\n",
              "      box-shadow: 0px 1px 3px 1px rgba(0, 0, 0, 0.15);\n",
              "      filter: drop-shadow(0px 1px 2px rgba(0, 0, 0, 0.3));\n",
              "      fill: #FFFFFF;\n",
              "    }\n",
              "  </style>\n",
              "\n",
              "      <script>\n",
              "        const buttonEl =\n",
              "          document.querySelector('#df-6264aefd-dc71-4b05-96bb-d0dde420c198 button.colab-df-convert');\n",
              "        buttonEl.style.display =\n",
              "          google.colab.kernel.accessAllowed ? 'block' : 'none';\n",
              "\n",
              "        async function convertToInteractive(key) {\n",
              "          const element = document.querySelector('#df-6264aefd-dc71-4b05-96bb-d0dde420c198');\n",
              "          const dataTable =\n",
              "            await google.colab.kernel.invokeFunction('convertToInteractive',\n",
              "                                                     [key], {});\n",
              "          if (!dataTable) return;\n",
              "\n",
              "          const docLinkHtml = 'Like what you see? Visit the ' +\n",
              "            '<a target=\"_blank\" href=https://colab.research.google.com/notebooks/data_table.ipynb>data table notebook</a>'\n",
              "            + ' to learn more about interactive tables.';\n",
              "          element.innerHTML = '';\n",
              "          dataTable['output_type'] = 'display_data';\n",
              "          await google.colab.output.renderOutput(dataTable, element);\n",
              "          const docLink = document.createElement('div');\n",
              "          docLink.innerHTML = docLinkHtml;\n",
              "          element.appendChild(docLink);\n",
              "        }\n",
              "      </script>\n",
              "    </div>\n",
              "  </div>\n",
              "  "
            ]
          },
          "metadata": {},
          "execution_count": 14
        }
      ]
    },
    {
      "cell_type": "code",
      "source": [
        "# Menentukan variable independen\n",
        "y = predikat[\"pred\"]\n",
        "y.head()"
      ],
      "metadata": {
        "colab": {
          "base_uri": "https://localhost:8080/"
        },
        "id": "p_Ooi54cUS6k",
        "outputId": "ba9088a7-b427-44ab-83ef-f14626bfbd48"
      },
      "execution_count": 15,
      "outputs": [
        {
          "output_type": "execute_result",
          "data": {
            "text/plain": [
              "0    2\n",
              "1    2\n",
              "2    3\n",
              "3    2\n",
              "4    2\n",
              "Name: pred, dtype: int64"
            ]
          },
          "metadata": {},
          "execution_count": 15
        }
      ]
    },
    {
      "cell_type": "code",
      "source": [
        "from sklearn.model_selection import train_test_split\n",
        "\n",
        "X_train, X_test, y_train, y_test = train_test_split(x, y, test_size=0.2, shuffle=True, random_state=42)\n",
        "\n",
        "# Hasil dari pembagian dataset\n",
        "kalkulasi_train = y_train.value_counts()\n",
        "kalkulasi_test = y_test.value_counts()\n",
        "print(\"Total data latih : \\n\", kalkulasi_train)\n",
        "print(\"Total data tes : \\n\", kalkulasi_test)"
      ],
      "metadata": {
        "id": "dXVWo9NysbXe",
        "colab": {
          "base_uri": "https://localhost:8080/"
        },
        "outputId": "0dea44da-7436-4d66-d28e-a6c36e715eb2"
      },
      "execution_count": 16,
      "outputs": [
        {
          "output_type": "stream",
          "name": "stdout",
          "text": [
            "Total data latih : \n",
            " 2    261\n",
            "0    145\n",
            "1     71\n",
            "3     63\n",
            "Name: pred, dtype: int64\n",
            "Total data tes : \n",
            " 2    68\n",
            "0    35\n",
            "3    18\n",
            "1    14\n",
            "Name: pred, dtype: int64\n"
          ]
        }
      ]
    },
    {
      "cell_type": "code",
      "source": [
        "from tensorflow.keras.utils import to_categorical\n",
        "\n",
        "y_train = to_categorical(y_train, 4)\n",
        "y_test = to_categorical(y_test, 4)"
      ],
      "metadata": {
        "id": "uQvzCdeBWfHK"
      },
      "execution_count": 17,
      "outputs": []
    },
    {
      "cell_type": "code",
      "source": [
        "from keras.models import Sequential\n",
        "from keras import layers\n",
        "from keras.wrappers.scikit_learn import KerasClassifier\n",
        "\n",
        "# Add model for Neural Network\n",
        "input_dim = X_train.shape[1]  # Number of features\n",
        "\n",
        "model = Sequential()\n",
        "model.add(layers.Dense(4, input_dim=input_dim, activation='relu'))\n",
        "model.add(layers.Dense(8, activation='relu'))\n",
        "model.add(layers.Dense(4, activation='softmax'))\n",
        "\n",
        "# Compile model\n",
        "model.compile(loss='categorical_crossentropy', optimizer='adam', metrics=['accuracy'])\n",
        "          \n",
        "model.summary()"
      ],
      "metadata": {
        "id": "1gvDI4l_vUUr",
        "colab": {
          "base_uri": "https://localhost:8080/"
        },
        "outputId": "1c91f6fd-0b33-4ef8-8cb4-314077805d13"
      },
      "execution_count": 18,
      "outputs": [
        {
          "output_type": "stream",
          "name": "stdout",
          "text": [
            "Model: \"sequential\"\n",
            "_________________________________________________________________\n",
            " Layer (type)                Output Shape              Param #   \n",
            "=================================================================\n",
            " dense (Dense)               (None, 4)                 24        \n",
            "                                                                 \n",
            " dense_1 (Dense)             (None, 8)                 40        \n",
            "                                                                 \n",
            " dense_2 (Dense)             (None, 4)                 36        \n",
            "                                                                 \n",
            "=================================================================\n",
            "Total params: 100\n",
            "Trainable params: 100\n",
            "Non-trainable params: 0\n",
            "_________________________________________________________________\n"
          ]
        }
      ]
    },
    {
      "cell_type": "code",
      "source": [
        "# run model\n",
        "history = model.fit(X_train, y_train, epochs=10, verbose=True, validation_data=(X_test, y_test), batch_size=10)"
      ],
      "metadata": {
        "colab": {
          "base_uri": "https://localhost:8080/"
        },
        "id": "hQSpOavjYbwD",
        "outputId": "801891ed-6f37-40ae-e138-75bbcfb4df7e"
      },
      "execution_count": 19,
      "outputs": [
        {
          "output_type": "stream",
          "name": "stdout",
          "text": [
            "Epoch 1/10\n",
            "54/54 [==============================] - 1s 6ms/step - loss: 1.9786 - accuracy: 0.1167 - val_loss: 1.6055 - val_accuracy: 0.1333\n",
            "Epoch 2/10\n",
            "54/54 [==============================] - 0s 2ms/step - loss: 1.4882 - accuracy: 0.1167 - val_loss: 1.3949 - val_accuracy: 0.1333\n",
            "Epoch 3/10\n",
            "54/54 [==============================] - 0s 2ms/step - loss: 1.3569 - accuracy: 0.3463 - val_loss: 1.3131 - val_accuracy: 0.5037\n",
            "Epoch 4/10\n",
            "54/54 [==============================] - 0s 2ms/step - loss: 1.2998 - accuracy: 0.4833 - val_loss: 1.2695 - val_accuracy: 0.5037\n",
            "Epoch 5/10\n",
            "54/54 [==============================] - 0s 2ms/step - loss: 1.2645 - accuracy: 0.4833 - val_loss: 1.2397 - val_accuracy: 0.5037\n",
            "Epoch 6/10\n",
            "54/54 [==============================] - 0s 2ms/step - loss: 1.2422 - accuracy: 0.4833 - val_loss: 1.2242 - val_accuracy: 0.5037\n",
            "Epoch 7/10\n",
            "54/54 [==============================] - 0s 2ms/step - loss: 1.2307 - accuracy: 0.4833 - val_loss: 1.2150 - val_accuracy: 0.5037\n",
            "Epoch 8/10\n",
            "54/54 [==============================] - 0s 2ms/step - loss: 1.2264 - accuracy: 0.4833 - val_loss: 1.2118 - val_accuracy: 0.5037\n",
            "Epoch 9/10\n",
            "54/54 [==============================] - 0s 2ms/step - loss: 1.2237 - accuracy: 0.4833 - val_loss: 1.2090 - val_accuracy: 0.5037\n",
            "Epoch 10/10\n",
            "54/54 [==============================] - 0s 2ms/step - loss: 1.2223 - accuracy: 0.4833 - val_loss: 1.2073 - val_accuracy: 0.5037\n"
          ]
        }
      ]
    },
    {
      "cell_type": "code",
      "source": [
        "# Check the Accuracy\n",
        "loss, accuracy = model.evaluate(X_train, y_train, verbose=False)\n",
        "print(\"Training Accuracy: {:.4f}\".format(accuracy))\n",
        "loss, accuracy = model.evaluate(X_test, y_test, verbose=False)\n",
        "print(\"Testing Accuracy:  {:.4f}\".format(accuracy))"
      ],
      "metadata": {
        "id": "k14zq9BI0bgS",
        "colab": {
          "base_uri": "https://localhost:8080/"
        },
        "outputId": "d1daf489-367e-451d-9a82-42a4c92d5c78"
      },
      "execution_count": 20,
      "outputs": [
        {
          "output_type": "stream",
          "name": "stdout",
          "text": [
            "Training Accuracy: 0.4833\n",
            "Testing Accuracy:  0.5037\n"
          ]
        }
      ]
    },
    {
      "cell_type": "code",
      "source": [
        "import matplotlib.pyplot as plt\n",
        "\n",
        "# Plot accuracy\n",
        "plt.style.use('ggplot')\n",
        "\n",
        "def plot_history(history):\n",
        "    acc = history.history['accuracy']\n",
        "    val_acc = history.history['val_accuracy']\n",
        "    loss = history.history['loss']\n",
        "    val_loss = history.history['val_loss']\n",
        "    x = range(1, len(acc) + 1)\n",
        "\n",
        "    plt.figure(figsize=(12, 5))\n",
        "    plt.subplot(1, 2, 1)\n",
        "    plt.plot(x, acc, 'b', label='Training acc')\n",
        "    plt.plot(x, val_acc, 'r', label='Validation acc')\n",
        "    plt.title('Training and validation accuracy')\n",
        "    plt.legend()\n",
        "    plt.subplot(1, 2, 2)\n",
        "    plt.plot(x, loss, 'b', label='Training loss')\n",
        "    plt.plot(x, val_loss, 'r', label='Validation loss')\n",
        "    plt.title('Training and validation loss')\n",
        "    plt.legend()"
      ],
      "metadata": {
        "id": "H31e-miyY7pB"
      },
      "execution_count": 21,
      "outputs": []
    },
    {
      "cell_type": "code",
      "source": [
        "plot_history(history)"
      ],
      "metadata": {
        "colab": {
          "base_uri": "https://localhost:8080/",
          "height": 337
        },
        "id": "j1SH-fqVZSEL",
        "outputId": "84b7595e-eaec-4b24-dd8e-1a1315fc86f0"
      },
      "execution_count": 22,
      "outputs": [
        {
          "output_type": "display_data",
          "data": {
            "text/plain": [
              "<Figure size 864x360 with 2 Axes>"
            ],
            "image/png": "[encoded data removed]"
          },
          "metadata": {}
        }
      ]
    },
    {
      "cell_type": "code",
      "source": [
        "import pandas as pd\n",
        "import matplotlib.pyplot as plt\n",
        "from sklearn import model_selection\n",
        "from sklearn.datasets import load_iris\n",
        "from sklearn.neighbors import KNeighborsClassifier\n",
        "from sklearn.metrics import accuracy_score\n",
        "from sklearn.metrics import confusion_matrix\n",
        "from sklearn.metrics import plot_confusion_matrix"
      ],
      "metadata": {
        "id": "NR21poXbydzu"
      },
      "execution_count": 30,
      "outputs": []
    },
    {
      "cell_type": "code",
      "source": [
        "def iris_type(row):\n",
        "  if row['target'] ==0:\n",
        "    return 'iris-setosa'\n",
        "  elif row['target'] ==1:\n",
        "    return 'iris-versicolor'\n",
        "  elif row['target'] ==2:\n",
        "    return 'iris-virginical'"
      ],
      "metadata": {
        "id": "9WU5nfNs0EAR"
      },
      "execution_count": 31,
      "outputs": []
    },
    {
      "cell_type": "code",
      "source": [
        "iris = load_iris()\n",
        "df = pd.DataFrame(iris.data)\n",
        "df.colom = ['sepal_length','sepal_width','petal_length','petal_width']\n",
        "df['target'] = iris.target\n",
        "df['iris_type'] = df.apply(iris_type,axis=1)"
      ],
      "metadata": {
        "id": "zqdR4-PfzP7j",
        "outputId": "50a4e2db-4022-4d47-bd95-7fc7ed49bad5",
        "colab": {
          "base_uri": "https://localhost:8080/"
        }
      },
      "execution_count": 32,
      "outputs": [
        {
          "output_type": "stream",
          "name": "stderr",
          "text": [
            "<ipython-input-32-f9ba73bd93a6>:3: UserWarning: Pandas doesn't allow columns to be created via a new attribute name - see https://pandas.pydata.org/pandas-docs/stable/indexing.html#attribute-access\n",
            "  df.colom = ['sepal_length','sepal_width','petal_length','petal_width']\n"
          ]
        }
      ]
    },
    {
      "cell_type": "code",
      "source": [
        "x = df[df.columns[0:4]].values\n",
        "y = df[df.columns[5]].values"
      ],
      "metadata": {
        "id": "GGn5m6qG61qt"
      },
      "execution_count": 33,
      "outputs": []
    },
    {
      "cell_type": "code",
      "source": [
        "x_train, x_test, y_train, y_test = model_selection.train_test_split(x, y, test_size=0.2)"
      ],
      "metadata": {
        "id": "5rhVAQa2646E"
      },
      "execution_count": 34,
      "outputs": []
    },
    {
      "cell_type": "code",
      "source": [
        "knn_clf = KNeighborsClassifier(n_neighbors=9)\n",
        "knn_clf.fit(x_train, y_train)\n",
        "knn_predictions = knn_clf.predict(x_test)\n",
        "print('accuracy of the knn algirthm is {}'.format(accuracy_score(y_test, knn_predictions)))"
      ],
      "metadata": {
        "colab": {
          "base_uri": "https://localhost:8080/"
        },
        "id": "OKPqugvl68OA",
        "outputId": "7453c589-29b1-4b67-8cf8-1c2cb740165e"
      },
      "execution_count": 35,
      "outputs": [
        {
          "output_type": "stream",
          "name": "stdout",
          "text": [
            "accuracy of the knn algirthm is 1.0\n"
          ]
        }
      ]
    },
    {
      "cell_type": "code",
      "source": [
        "confusion_matrix(y_test, knn_predictions)"
      ],
      "metadata": {
        "id": "vxcXWtq1wcva",
        "outputId": "fb605e25-c827-41af-928d-377f4831c559",
        "colab": {
          "base_uri": "https://localhost:8080/"
        }
      },
      "execution_count": 36,
      "outputs": [
        {
          "output_type": "execute_result",
          "data": {
            "text/plain": [
              "array([[ 6,  0,  0],\n",
              "       [ 0, 10,  0],\n",
              "       [ 0,  0, 14]])"
            ]
          },
          "metadata": {},
          "execution_count": 36
        }
      ]
    },
    {
      "cell_type": "code",
      "source": [
        "matrix = plot_confusion_matrix(knn_clf, x_test, y_test, cmap=plt.cm.Reds)\n",
        "matrix.ax_.set_title('confusion matrix', color='white')\n",
        "plt.xlabel('predicted label', color='white')\n",
        "plt.ylabel('true label', color='white')\n",
        "plt.gcf().axes[0].tick_params(color='white')\n",
        "plt.gcf().axes[1].tick_params(color='white')\n",
        "plt.gcf().set_size_inches(10,6)\n",
        "plt.show()"
      ],
      "metadata": {
        "id": "1gB5Y3tw-u2-",
        "outputId": "acbf0abe-9200-46e2-eb8a-8170c1816bcb",
        "colab": {
          "base_uri": "https://localhost:8080/",
          "height": 463
        }
      },
      "execution_count": 37,
      "outputs": [
        {
          "output_type": "stream",
          "name": "stderr",
          "text": [
            "/usr/local/lib/python3.8/dist-packages/sklearn/utils/deprecation.py:87: FutureWarning: Function plot_confusion_matrix is deprecated; Function `plot_confusion_matrix` is deprecated in 1.0 and will be removed in 1.2. Use one of the class methods: ConfusionMatrixDisplay.from_predictions or ConfusionMatrixDisplay.from_estimator.\n",
            "  warnings.warn(msg, category=FutureWarning)\n"
          ]
        },
        {
          "output_type": "display_data",
          "data": {
            "text/plain": [
              "<Figure size 720x432 with 2 Axes>"
            ],
            "image/png": "[encoded data removed]"
          },
          "metadata": {}
        }
      ]
    },
    {
      "cell_type": "code",
      "source": [
        "x = ['4', '6', '7', '2', '3']\n",
        "\n",
        "y = ['6', '5', '8', '1', '2']"
      ],
      "metadata": {
        "id": "ipwIfV1U-yV7"
      },
      "execution_count": 46,
      "outputs": []
    },
    {
      "cell_type": "code",
      "source": [
        "confusion_mtrx = confusion_matrix(data_asli, data_prediksi)"
      ],
      "metadata": {
        "id": "k78rJe1WCoIl"
      },
      "execution_count": 47,
      "outputs": []
    },
    {
      "cell_type": "code",
      "source": [
        "plt.imshow(confusion_mtrx, cmap=plt.cm.gray)\n",
        "plt.title(\"confusion matrix\")\n",
        "plt.colorbar()\n",
        "plt.xlabel('x')\n",
        "plt.ylabel('y')\n",
        "plt.show()"
      ],
      "metadata": {
        "id": "EltZUeqgCq60",
        "outputId": "e882164e-3849-43e8-cc9d-aaf205fcc2d4",
        "colab": {
          "base_uri": "https://localhost:8080/",
          "height": 299
        }
      },
      "execution_count": 49,
      "outputs": [
        {
          "output_type": "display_data",
          "data": {
            "text/plain": [
              "<Figure size 432x288 with 2 Axes>"
            ],
            "image/png": "[encoded data removed]"
          },
          "metadata": {}
        }
      ]
    },
    {
      "cell_type": "code",
      "source": [
        "from sklearn.metrics import classification_report"
      ],
      "metadata": {
        "id": "jzO8SKBmCwop"
      },
      "execution_count": 50,
      "outputs": []
    },
    {
      "cell_type": "code",
      "source": [
        "target = ['0', '1', '2', '3', '4']\n",
        "print(classification_report(data_asli, data_prediksi))"
      ],
      "metadata": {
        "id": "vHNYQzK4Cyud",
        "outputId": "af114b22-dca7-45eb-cb24-a3641455e66c",
        "colab": {
          "base_uri": "https://localhost:8080/"
        }
      },
      "execution_count": 51,
      "outputs": [
        {
          "output_type": "stream",
          "name": "stdout",
          "text": [
            "              precision    recall  f1-score   support\n",
            "\n",
            "                   1.00      1.00      1.00         1\n",
            "\n",
            "    accuracy                           1.00         1\n",
            "   macro avg       1.00      1.00      1.00         1\n",
            "weighted avg       1.00      1.00      1.00         1\n",
            "\n"
          ]
        }
      ]
    }
  ]
}