{
  "nbformat": 4,
  "nbformat_minor": 0,
  "metadata": {
    "colab": {
      "provenance": [],
      "authorship_tag": "ABX9TyM5jZVxv24A6gD1wUaaNZlU",
      "include_colab_link": true
    },
    "kernelspec": {
      "name": "python3",
      "display_name": "Python 3"
    },
    "language_info": {
      "name": "python"
    }
  },
  "cells": [
    {
      "cell_type": "markdown",
      "metadata": {
        "id": "view-in-github",
        "colab_type": "text"
      },
      "source": [
        "<a href=\"https://colab.research.google.com/github/Afitr06/backpropagatin3/blob/main/predikat.ipynb\" target=\"_parent\"><img src=\"https://colab.research.google.com/assets/colab-badge.svg\" alt=\"Open In Colab\"/></a>"
      ]
    },
    {
      "cell_type": "code",
      "execution_count": 21,
      "metadata": {
        "id": "Z4YzXvbKl29o"
      },
      "outputs": [],
      "source": [
        "# import packages\n",
        "import pandas as pd\n",
        "import numpy as np"
      ]
    },
    {
      "cell_type": "code",
      "source": [
        "#memasukan data\n",
        "predikat = pd.read_csv ('data.csv')\n",
        "predikat\n",
        "# membaca 5 data\n",
        "\n",
        "predikat.head()"
      ],
      "metadata": {
        "colab": {
          "base_uri": "https://localhost:8080/",
          "height": 206
        },
        "id": "ht7OF8h-mK33",
        "outputId": "f1fc0a07-23bd-4823-9549-8eac11cfe131"
      },
      "execution_count": 22,
      "outputs": [
        {
          "output_type": "execute_result",
          "data": {
            "text/plain": [
              "       NPM         Nama Lengkap  IPK1  IPK2  IPK3  IPK4  IPK5  IPK6  IPK7  \\\n",
              "0  1706003    Adam Fakhrul Rozi  3.04  3.14  2.94  2.93  2.93  2.99  3.02   \n",
              "1  1706004     Rival Firmansyah  3.10  3.10  3.11  3.06  3.08  3.13  3.18   \n",
              "2  1706005        Ihsan Nugraha  3.92  3.89  3.86  3.83  3.86  3.86  3.86   \n",
              "3  1706007  Rizky Safta Maolani  3.57  3.49  3.41  3.35  3.43  3.43  3.45   \n",
              "4  1706009      Abdul Kamaludin  3.10  3.30  3.21  3.25  3.32  3.37  3.39   \n",
              "\n",
              "   IPK8 Status  \n",
              "0  3.08      L  \n",
              "1  3.25      L  \n",
              "2  3.87      L  \n",
              "3  3.47      L  \n",
              "4  3.44      L  "
            ],
            "text/html": [
              "\n",
              "  <div id=\"df-d945a324-1f1e-4d7e-a0a2-c4ae88d99666\">\n",
              "    <div class=\"colab-df-container\">\n",
              "      <div>\n",
              "<style scoped>\n",
              "    .dataframe tbody tr th:only-of-type {\n",
              "        vertical-align: middle;\n",
              "    }\n",
              "\n",
              "    .dataframe tbody tr th {\n",
              "        vertical-align: top;\n",
              "    }\n",
              "\n",
              "    .dataframe thead th {\n",
              "        text-align: right;\n",
              "    }\n",
              "</style>\n",
              "<table border=\"1\" class=\"dataframe\">\n",
              "  <thead>\n",
              "    <tr style=\"text-align: right;\">\n",
              "      <th></th>\n",
              "      <th>NPM</th>\n",
              "      <th>Nama Lengkap</th>\n",
              "      <th>IPK1</th>\n",
              "      <th>IPK2</th>\n",
              "      <th>IPK3</th>\n",
              "      <th>IPK4</th>\n",
              "      <th>IPK5</th>\n",
              "      <th>IPK6</th>\n",
              "      <th>IPK7</th>\n",
              "      <th>IPK8</th>\n",
              "      <th>Status</th>\n",
              "    </tr>\n",
              "  </thead>\n",
              "  <tbody>\n",
              "    <tr>\n",
              "      <th>0</th>\n",
              "      <td>1706003</td>\n",
              "      <td>Adam Fakhrul Rozi</td>\n",
              "      <td>3.04</td>\n",
              "      <td>3.14</td>\n",
              "      <td>2.94</td>\n",
              "      <td>2.93</td>\n",
              "      <td>2.93</td>\n",
              "      <td>2.99</td>\n",
              "      <td>3.02</td>\n",
              "      <td>3.08</td>\n",
              "      <td>L</td>\n",
              "    </tr>\n",
              "    <tr>\n",
              "      <th>1</th>\n",
              "      <td>1706004</td>\n",
              "      <td>Rival Firmansyah</td>\n",
              "      <td>3.10</td>\n",
              "      <td>3.10</td>\n",
              "      <td>3.11</td>\n",
              "      <td>3.06</td>\n",
              "      <td>3.08</td>\n",
              "      <td>3.13</td>\n",
              "      <td>3.18</td>\n",
              "      <td>3.25</td>\n",
              "      <td>L</td>\n",
              "    </tr>\n",
              "    <tr>\n",
              "      <th>2</th>\n",
              "      <td>1706005</td>\n",
              "      <td>Ihsan Nugraha</td>\n",
              "      <td>3.92</td>\n",
              "      <td>3.89</td>\n",
              "      <td>3.86</td>\n",
              "      <td>3.83</td>\n",
              "      <td>3.86</td>\n",
              "      <td>3.86</td>\n",
              "      <td>3.86</td>\n",
              "      <td>3.87</td>\n",
              "      <td>L</td>\n",
              "    </tr>\n",
              "    <tr>\n",
              "      <th>3</th>\n",
              "      <td>1706007</td>\n",
              "      <td>Rizky Safta Maolani</td>\n",
              "      <td>3.57</td>\n",
              "      <td>3.49</td>\n",
              "      <td>3.41</td>\n",
              "      <td>3.35</td>\n",
              "      <td>3.43</td>\n",
              "      <td>3.43</td>\n",
              "      <td>3.45</td>\n",
              "      <td>3.47</td>\n",
              "      <td>L</td>\n",
              "    </tr>\n",
              "    <tr>\n",
              "      <th>4</th>\n",
              "      <td>1706009</td>\n",
              "      <td>Abdul Kamaludin</td>\n",
              "      <td>3.10</td>\n",
              "      <td>3.30</td>\n",
              "      <td>3.21</td>\n",
              "      <td>3.25</td>\n",
              "      <td>3.32</td>\n",
              "      <td>3.37</td>\n",
              "      <td>3.39</td>\n",
              "      <td>3.44</td>\n",
              "      <td>L</td>\n",
              "    </tr>\n",
              "  </tbody>\n",
              "</table>\n",
              "</div>\n",
              "      <button class=\"colab-df-convert\" onclick=\"convertToInteractive('df-d945a324-1f1e-4d7e-a0a2-c4ae88d99666')\"\n",
              "              title=\"Convert this dataframe to an interactive table.\"\n",
              "              style=\"display:none;\">\n",
              "        \n",
              "  <svg xmlns=\"http://www.w3.org/2000/svg\" height=\"24px\"viewBox=\"0 0 24 24\"\n",
              "       width=\"24px\">\n",
              "    <path d=\"M0 0h24v24H0V0z\" fill=\"none\"/>\n",
              "    <path d=\"M18.56 5.44l.94 2.06.94-2.06 2.06-.94-2.06-.94-.94-2.06-.94 2.06-2.06.94zm-11 1L8.5 8.5l.94-2.06 2.06-.94-2.06-.94L8.5 2.5l-.94 2.06-2.06.94zm10 10l.94 2.06.94-2.06 2.06-.94-2.06-.94-.94-2.06-.94 2.06-2.06.94z\"/><path d=\"M17.41 7.96l-1.37-1.37c-.4-.4-.92-.59-1.43-.59-.52 0-1.04.2-1.43.59L10.3 9.45l-7.72 7.72c-.78.78-.78 2.05 0 2.83L4 21.41c.39.39.9.59 1.41.59.51 0 1.02-.2 1.41-.59l7.78-7.78 2.81-2.81c.8-.78.8-2.07 0-2.86zM5.41 20L4 18.59l7.72-7.72 1.47 1.35L5.41 20z\"/>\n",
              "  </svg>\n",
              "      </button>\n",
              "      \n",
              "  <style>\n",
              "    .colab-df-container {\n",
              "      display:flex;\n",
              "      flex-wrap:wrap;\n",
              "      gap: 12px;\n",
              "    }\n",
              "\n",
              "    .colab-df-convert {\n",
              "      background-color: #E8F0FE;\n",
              "      border: none;\n",
              "      border-radius: 50%;\n",
              "      cursor: pointer;\n",
              "      display: none;\n",
              "      fill: #1967D2;\n",
              "      height: 32px;\n",
              "      padding: 0 0 0 0;\n",
              "      width: 32px;\n",
              "    }\n",
              "\n",
              "    .colab-df-convert:hover {\n",
              "      background-color: #E2EBFA;\n",
              "      box-shadow: 0px 1px 2px rgba(60, 64, 67, 0.3), 0px 1px 3px 1px rgba(60, 64, 67, 0.15);\n",
              "      fill: #174EA6;\n",
              "    }\n",
              "\n",
              "    [theme=dark] .colab-df-convert {\n",
              "      background-color: #3B4455;\n",
              "      fill: #D2E3FC;\n",
              "    }\n",
              "\n",
              "    [theme=dark] .colab-df-convert:hover {\n",
              "      background-color: #434B5C;\n",
              "      box-shadow: 0px 1px 3px 1px rgba(0, 0, 0, 0.15);\n",
              "      filter: drop-shadow(0px 1px 2px rgba(0, 0, 0, 0.3));\n",
              "      fill: #FFFFFF;\n",
              "    }\n",
              "  </style>\n",
              "\n",
              "      <script>\n",
              "        const buttonEl =\n",
              "          document.querySelector('#df-d945a324-1f1e-4d7e-a0a2-c4ae88d99666 button.colab-df-convert');\n",
              "        buttonEl.style.display =\n",
              "          google.colab.kernel.accessAllowed ? 'block' : 'none';\n",
              "\n",
              "        async function convertToInteractive(key) {\n",
              "          const element = document.querySelector('#df-d945a324-1f1e-4d7e-a0a2-c4ae88d99666');\n",
              "          const dataTable =\n",
              "            await google.colab.kernel.invokeFunction('convertToInteractive',\n",
              "                                                     [key], {});\n",
              "          if (!dataTable) return;\n",
              "\n",
              "          const docLinkHtml = 'Like what you see? Visit the ' +\n",
              "            '<a target=\"_blank\" href=https://colab.research.google.com/notebooks/data_table.ipynb>data table notebook</a>'\n",
              "            + ' to learn more about interactive tables.';\n",
              "          element.innerHTML = '';\n",
              "          dataTable['output_type'] = 'display_data';\n",
              "          await google.colab.output.renderOutput(dataTable, element);\n",
              "          const docLink = document.createElement('div');\n",
              "          docLink.innerHTML = docLinkHtml;\n",
              "          element.appendChild(docLink);\n",
              "        }\n",
              "      </script>\n",
              "    </div>\n",
              "  </div>\n",
              "  "
            ]
          },
          "metadata": {},
          "execution_count": 22
        }
      ]
    },
    {
      "cell_type": "code",
      "source": [
        "# melihat data yang akan di gunakan\n",
        "predikat.info()"
      ],
      "metadata": {
        "colab": {
          "base_uri": "https://localhost:8080/"
        },
        "id": "0nvrws2yoAl_",
        "outputId": "126b3ec8-ff2b-4909-ef94-b68ace5ad3d4"
      },
      "execution_count": 23,
      "outputs": [
        {
          "output_type": "stream",
          "name": "stdout",
          "text": [
            "<class 'pandas.core.frame.DataFrame'>\n",
            "RangeIndex: 100 entries, 0 to 99\n",
            "Data columns (total 11 columns):\n",
            " #   Column        Non-Null Count  Dtype  \n",
            "---  ------        --------------  -----  \n",
            " 0   NPM           100 non-null    int64  \n",
            " 1   Nama Lengkap  100 non-null    object \n",
            " 2   IPK1          100 non-null    float64\n",
            " 3   IPK2          100 non-null    float64\n",
            " 4   IPK3          100 non-null    float64\n",
            " 5   IPK4          100 non-null    float64\n",
            " 6   IPK5          100 non-null    float64\n",
            " 7   IPK6          100 non-null    float64\n",
            " 8   IPK7          99 non-null     float64\n",
            " 9   IPK8          98 non-null     float64\n",
            " 10  Status        100 non-null    object \n",
            "dtypes: float64(8), int64(1), object(2)\n",
            "memory usage: 8.7+ KB\n"
          ]
        }
      ]
    },
    {
      "cell_type": "code",
      "source": [
        "# menentukan variable\n",
        "x = predikat.iloc[:,2:7]\n",
        "x.head()"
      ],
      "metadata": {
        "colab": {
          "base_uri": "https://localhost:8080/",
          "height": 206
        },
        "id": "0teY1gDTrLdj",
        "outputId": "3f6360ef-7d77-44b9-97aa-116fa17f6e1f"
      },
      "execution_count": 24,
      "outputs": [
        {
          "output_type": "execute_result",
          "data": {
            "text/plain": [
              "   IPK1  IPK2  IPK3  IPK4  IPK5\n",
              "0  3.04  3.14  2.94  2.93  2.93\n",
              "1  3.10  3.10  3.11  3.06  3.08\n",
              "2  3.92  3.89  3.86  3.83  3.86\n",
              "3  3.57  3.49  3.41  3.35  3.43\n",
              "4  3.10  3.30  3.21  3.25  3.32"
            ],
            "text/html": [
              "\n",
              "  <div id=\"df-1ef1019c-444d-478d-8a6a-2cf1b2d735fb\">\n",
              "    <div class=\"colab-df-container\">\n",
              "      <div>\n",
              "<style scoped>\n",
              "    .dataframe tbody tr th:only-of-type {\n",
              "        vertical-align: middle;\n",
              "    }\n",
              "\n",
              "    .dataframe tbody tr th {\n",
              "        vertical-align: top;\n",
              "    }\n",
              "\n",
              "    .dataframe thead th {\n",
              "        text-align: right;\n",
              "    }\n",
              "</style>\n",
              "<table border=\"1\" class=\"dataframe\">\n",
              "  <thead>\n",
              "    <tr style=\"text-align: right;\">\n",
              "      <th></th>\n",
              "      <th>IPK1</th>\n",
              "      <th>IPK2</th>\n",
              "      <th>IPK3</th>\n",
              "      <th>IPK4</th>\n",
              "      <th>IPK5</th>\n",
              "    </tr>\n",
              "  </thead>\n",
              "  <tbody>\n",
              "    <tr>\n",
              "      <th>0</th>\n",
              "      <td>3.04</td>\n",
              "      <td>3.14</td>\n",
              "      <td>2.94</td>\n",
              "      <td>2.93</td>\n",
              "      <td>2.93</td>\n",
              "    </tr>\n",
              "    <tr>\n",
              "      <th>1</th>\n",
              "      <td>3.10</td>\n",
              "      <td>3.10</td>\n",
              "      <td>3.11</td>\n",
              "      <td>3.06</td>\n",
              "      <td>3.08</td>\n",
              "    </tr>\n",
              "    <tr>\n",
              "      <th>2</th>\n",
              "      <td>3.92</td>\n",
              "      <td>3.89</td>\n",
              "      <td>3.86</td>\n",
              "      <td>3.83</td>\n",
              "      <td>3.86</td>\n",
              "    </tr>\n",
              "    <tr>\n",
              "      <th>3</th>\n",
              "      <td>3.57</td>\n",
              "      <td>3.49</td>\n",
              "      <td>3.41</td>\n",
              "      <td>3.35</td>\n",
              "      <td>3.43</td>\n",
              "    </tr>\n",
              "    <tr>\n",
              "      <th>4</th>\n",
              "      <td>3.10</td>\n",
              "      <td>3.30</td>\n",
              "      <td>3.21</td>\n",
              "      <td>3.25</td>\n",
              "      <td>3.32</td>\n",
              "    </tr>\n",
              "  </tbody>\n",
              "</table>\n",
              "</div>\n",
              "      <button class=\"colab-df-convert\" onclick=\"convertToInteractive('df-1ef1019c-444d-478d-8a6a-2cf1b2d735fb')\"\n",
              "              title=\"Convert this dataframe to an interactive table.\"\n",
              "              style=\"display:none;\">\n",
              "        \n",
              "  <svg xmlns=\"http://www.w3.org/2000/svg\" height=\"24px\"viewBox=\"0 0 24 24\"\n",
              "       width=\"24px\">\n",
              "    <path d=\"M0 0h24v24H0V0z\" fill=\"none\"/>\n",
              "    <path d=\"M18.56 5.44l.94 2.06.94-2.06 2.06-.94-2.06-.94-.94-2.06-.94 2.06-2.06.94zm-11 1L8.5 8.5l.94-2.06 2.06-.94-2.06-.94L8.5 2.5l-.94 2.06-2.06.94zm10 10l.94 2.06.94-2.06 2.06-.94-2.06-.94-.94-2.06-.94 2.06-2.06.94z\"/><path d=\"M17.41 7.96l-1.37-1.37c-.4-.4-.92-.59-1.43-.59-.52 0-1.04.2-1.43.59L10.3 9.45l-7.72 7.72c-.78.78-.78 2.05 0 2.83L4 21.41c.39.39.9.59 1.41.59.51 0 1.02-.2 1.41-.59l7.78-7.78 2.81-2.81c.8-.78.8-2.07 0-2.86zM5.41 20L4 18.59l7.72-7.72 1.47 1.35L5.41 20z\"/>\n",
              "  </svg>\n",
              "      </button>\n",
              "      \n",
              "  <style>\n",
              "    .colab-df-container {\n",
              "      display:flex;\n",
              "      flex-wrap:wrap;\n",
              "      gap: 12px;\n",
              "    }\n",
              "\n",
              "    .colab-df-convert {\n",
              "      background-color: #E8F0FE;\n",
              "      border: none;\n",
              "      border-radius: 50%;\n",
              "      cursor: pointer;\n",
              "      display: none;\n",
              "      fill: #1967D2;\n",
              "      height: 32px;\n",
              "      padding: 0 0 0 0;\n",
              "      width: 32px;\n",
              "    }\n",
              "\n",
              "    .colab-df-convert:hover {\n",
              "      background-color: #E2EBFA;\n",
              "      box-shadow: 0px 1px 2px rgba(60, 64, 67, 0.3), 0px 1px 3px 1px rgba(60, 64, 67, 0.15);\n",
              "      fill: #174EA6;\n",
              "    }\n",
              "\n",
              "    [theme=dark] .colab-df-convert {\n",
              "      background-color: #3B4455;\n",
              "      fill: #D2E3FC;\n",
              "    }\n",
              "\n",
              "    [theme=dark] .colab-df-convert:hover {\n",
              "      background-color: #434B5C;\n",
              "      box-shadow: 0px 1px 3px 1px rgba(0, 0, 0, 0.15);\n",
              "      filter: drop-shadow(0px 1px 2px rgba(0, 0, 0, 0.3));\n",
              "      fill: #FFFFFF;\n",
              "    }\n",
              "  </style>\n",
              "\n",
              "      <script>\n",
              "        const buttonEl =\n",
              "          document.querySelector('#df-1ef1019c-444d-478d-8a6a-2cf1b2d735fb button.colab-df-convert');\n",
              "        buttonEl.style.display =\n",
              "          google.colab.kernel.accessAllowed ? 'block' : 'none';\n",
              "\n",
              "        async function convertToInteractive(key) {\n",
              "          const element = document.querySelector('#df-1ef1019c-444d-478d-8a6a-2cf1b2d735fb');\n",
              "          const dataTable =\n",
              "            await google.colab.kernel.invokeFunction('convertToInteractive',\n",
              "                                                     [key], {});\n",
              "          if (!dataTable) return;\n",
              "\n",
              "          const docLinkHtml = 'Like what you see? Visit the ' +\n",
              "            '<a target=\"_blank\" href=https://colab.research.google.com/notebooks/data_table.ipynb>data table notebook</a>'\n",
              "            + ' to learn more about interactive tables.';\n",
              "          element.innerHTML = '';\n",
              "          dataTable['output_type'] = 'display_data';\n",
              "          await google.colab.output.renderOutput(dataTable, element);\n",
              "          const docLink = document.createElement('div');\n",
              "          docLink.innerHTML = docLinkHtml;\n",
              "          element.appendChild(docLink);\n",
              "        }\n",
              "      </script>\n",
              "    </div>\n",
              "  </div>\n",
              "  "
            ]
          },
          "metadata": {},
          "execution_count": 24
        }
      ]
    },
    {
      "cell_type": "code",
      "source": [
        "# Menentukan variable independen\n",
        "y = predikat[\"IPK8\"]\n",
        "y.head()"
      ],
      "metadata": {
        "colab": {
          "base_uri": "https://localhost:8080/"
        },
        "id": "v6QuxDC6sMDV",
        "outputId": "1b91e775-045a-4803-b0d5-753ed4f1d8cc"
      },
      "execution_count": 25,
      "outputs": [
        {
          "output_type": "execute_result",
          "data": {
            "text/plain": [
              "0    3.08\n",
              "1    3.25\n",
              "2    3.87\n",
              "3    3.47\n",
              "4    3.44\n",
              "Name: IPK8, dtype: float64"
            ]
          },
          "metadata": {},
          "execution_count": 25
        }
      ]
    },
    {
      "cell_type": "code",
      "source": [
        "from sklearn.model_selection import train_test_split\n",
        "\n",
        "X_train, X_test, y_train, y_test = train_test_split(x, y, test_size=0.2, shuffle=True, random_state=42)\n",
        "\n",
        "# Hasil dari pembagian dataset\n",
        "kalkulasi_train = y_train.value_counts()\n",
        "kalkulasi_test = y_test.value_counts()\n",
        "print(\"Total data latih : \\n\", kalkulasi_train)\n",
        "print(\"Total data tes : \\n\", kalkulasi_test)"
      ],
      "metadata": {
        "id": "dXVWo9NysbXe",
        "outputId": "d5422a09-0abe-476f-a8af-984f313d14a5",
        "colab": {
          "base_uri": "https://localhost:8080/"
        }
      },
      "execution_count": 26,
      "outputs": [
        {
          "output_type": "stream",
          "name": "stdout",
          "text": [
            "Total data latih : \n",
            " 3.57    4\n",
            "3.60    3\n",
            "3.72    3\n",
            "3.45    3\n",
            "3.26    3\n",
            "3.32    2\n",
            "3.19    2\n",
            "3.83    2\n",
            "3.51    2\n",
            "3.33    2\n",
            "3.37    2\n",
            "3.28    2\n",
            "3.56    2\n",
            "3.66    2\n",
            "3.63    2\n",
            "3.65    2\n",
            "3.40    2\n",
            "3.29    2\n",
            "3.21    1\n",
            "4.00    1\n",
            "3.08    1\n",
            "3.42    1\n",
            "3.24    1\n",
            "3.79    1\n",
            "3.82    1\n",
            "3.69    1\n",
            "3.41    1\n",
            "3.68    1\n",
            "3.87    1\n",
            "3.49    1\n",
            "3.52    1\n",
            "3.25    1\n",
            "3.34    1\n",
            "3.92    1\n",
            "3.43    1\n",
            "3.47    1\n",
            "3.16    1\n",
            "3.78    1\n",
            "3.73    1\n",
            "3.14    1\n",
            "3.38    1\n",
            "2.00    1\n",
            "2.14    1\n",
            "3.39    1\n",
            "3.76    1\n",
            "3.02    1\n",
            "3.44    1\n",
            "3.07    1\n",
            "3.54    1\n",
            "3.06    1\n",
            "3.50    1\n",
            "3.58    1\n",
            "3.35    1\n",
            "3.75    1\n",
            "Name: IPK8, dtype: int64\n",
            "Total data tes : \n",
            " 3.42    2\n",
            "3.68    2\n",
            "3.71    1\n",
            "3.36    1\n",
            "3.29    1\n",
            "3.38    1\n",
            "3.44    1\n",
            "2.90    1\n",
            "3.67    1\n",
            "3.08    1\n",
            "3.32    1\n",
            "3.47    1\n",
            "3.88    1\n",
            "3.63    1\n",
            "3.34    1\n",
            "3.62    1\n",
            "3.55    1\n",
            "3.75    1\n",
            "Name: IPK8, dtype: int64\n"
          ]
        }
      ]
    },
    {
      "cell_type": "code",
      "source": [
        "from keras.models import Sequential\n",
        "from keras import layers\n",
        "from keras.wrappers.scikit_learn import KerasClassifier\n",
        "\n",
        "# Add model for Neural Network\n",
        "input_dim = X_train.shape[1]  # Number of features\n",
        "\n",
        "model = Sequential()\n",
        "model.add(layers.Dense(8, input_dim=input_dim, activation='relu'))\n",
        "model.add(layers.Dense(2, activation='relu'))\n",
        "model.add(layers.Dense(2, activation='relu'))\n",
        "model.add(layers.Dense(1, activation='softmax'))\n",
        "\n",
        "# Compile model\n",
        "model.compile(loss='categorical_crossentropy', optimizer='adam', metrics=['accuracy'])\n",
        "          \n",
        "model.summary()"
      ],
      "metadata": {
        "id": "1gvDI4l_vUUr",
        "outputId": "f26a2cf0-0218-47e2-b773-20daa6a2bb25",
        "colab": {
          "base_uri": "https://localhost:8080/"
        }
      },
      "execution_count": 27,
      "outputs": [
        {
          "output_type": "stream",
          "name": "stdout",
          "text": [
            "Model: \"sequential_2\"\n",
            "_________________________________________________________________\n",
            " Layer (type)                Output Shape              Param #   \n",
            "=================================================================\n",
            " dense_9 (Dense)             (None, 8)                 48        \n",
            "                                                                 \n",
            " dense_10 (Dense)            (None, 2)                 18        \n",
            "                                                                 \n",
            " dense_11 (Dense)            (None, 2)                 6         \n",
            "                                                                 \n",
            " dense_12 (Dense)            (None, 1)                 3         \n",
            "                                                                 \n",
            "=================================================================\n",
            "Total params: 75\n",
            "Trainable params: 75\n",
            "Non-trainable params: 0\n",
            "_________________________________________________________________\n"
          ]
        }
      ]
    },
    {
      "cell_type": "code",
      "source": [
        "# run model\n",
        "history = model.fit(X_train, y_train, epochs=10, verbose=True, validation_data=(X_test, y_test), batch_size=10)"
      ],
      "metadata": {
        "id": "hQSpOavjYbwD",
        "outputId": "3f4cf5ac-dec7-4b99-942a-830dc463a3b0",
        "colab": {
          "base_uri": "https://localhost:8080/"
        }
      },
      "execution_count": 28,
      "outputs": [
        {
          "output_type": "stream",
          "name": "stdout",
          "text": [
            "Epoch 1/10\n",
            "8/8 [==============================] - 1s 26ms/step - loss: nan - accuracy: 0.0000e+00 - val_loss: nan - val_accuracy: 0.0000e+00\n",
            "Epoch 2/10\n",
            "8/8 [==============================] - 0s 5ms/step - loss: nan - accuracy: 0.0000e+00 - val_loss: nan - val_accuracy: 0.0000e+00\n",
            "Epoch 3/10\n",
            "8/8 [==============================] - 0s 6ms/step - loss: nan - accuracy: 0.0000e+00 - val_loss: nan - val_accuracy: 0.0000e+00\n",
            "Epoch 4/10\n",
            "8/8 [==============================] - 0s 5ms/step - loss: nan - accuracy: 0.0000e+00 - val_loss: nan - val_accuracy: 0.0000e+00\n",
            "Epoch 5/10\n",
            "8/8 [==============================] - 0s 6ms/step - loss: nan - accuracy: 0.0000e+00 - val_loss: nan - val_accuracy: 0.0000e+00\n",
            "Epoch 6/10\n",
            "8/8 [==============================] - 0s 5ms/step - loss: nan - accuracy: 0.0000e+00 - val_loss: nan - val_accuracy: 0.0000e+00\n",
            "Epoch 7/10\n",
            "8/8 [==============================] - 0s 5ms/step - loss: nan - accuracy: 0.0000e+00 - val_loss: nan - val_accuracy: 0.0000e+00\n",
            "Epoch 8/10\n",
            "8/8 [==============================] - 0s 5ms/step - loss: nan - accuracy: 0.0000e+00 - val_loss: nan - val_accuracy: 0.0000e+00\n",
            "Epoch 9/10\n",
            "8/8 [==============================] - 0s 5ms/step - loss: nan - accuracy: 0.0000e+00 - val_loss: nan - val_accuracy: 0.0000e+00\n",
            "Epoch 10/10\n",
            "8/8 [==============================] - 0s 5ms/step - loss: nan - accuracy: 0.0000e+00 - val_loss: nan - val_accuracy: 0.0000e+00\n"
          ]
        }
      ]
    },
    {
      "cell_type": "code",
      "source": [
        "# Check the Accuracy\n",
        "loss, accuracy = model.evaluate(X_train, y_train, verbose=False)\n",
        "print(\"Training Accuracy: {:.4f}\".format(accuracy))\n",
        "loss, accuracy = model.evaluate(X_test, y_test, verbose=False)\n",
        "print(\"Testing Accuracy:  {:.4f}\".format(accuracy))"
      ],
      "metadata": {
        "id": "k14zq9BI0bgS",
        "outputId": "1f106ed3-831c-4ae4-e238-658f2c00a1fe",
        "colab": {
          "base_uri": "https://localhost:8080/"
        }
      },
      "execution_count": 29,
      "outputs": [
        {
          "output_type": "stream",
          "name": "stdout",
          "text": [
            "Training Accuracy: 0.0000\n",
            "Testing Accuracy:  0.0000\n"
          ]
        }
      ]
    },
    {
      "cell_type": "code",
      "source": [
        "import matplotlib.pyplot as plt\n",
        "\n",
        "# Plot accuracy\n",
        "plt.style.use('ggplot')\n",
        "\n",
        "def plot_history(history):\n",
        "    acc = history.history['accuracy']\n",
        "    val_acc = history.history['val_accuracy']\n",
        "    loss = history.history['loss']\n",
        "    val_loss = history.history['val_loss']\n",
        "    x = range(1, len(acc) + 1)\n",
        "\n",
        "    plt.figure(figsize=(12, 5))\n",
        "    plt.subplot(1, 2, 1)\n",
        "    plt.plot(x, acc, 'b', label='Training acc')\n",
        "    plt.plot(x, val_acc, 'r', label='Validation acc')\n",
        "    plt.title('Training and validation accuracy')\n",
        "    plt.legend()\n",
        "    plt.subplot(1, 2, 2)\n",
        "    plt.plot(x, loss, 'b', label='Training loss')\n",
        "    plt.plot(x, val_loss, 'r', label='Validation loss')\n",
        "    plt.title('Training and validation loss')\n",
        "    plt.legend()"
      ],
      "metadata": {
        "id": "H31e-miyY7pB"
      },
      "execution_count": 30,
      "outputs": []
    },
    {
      "cell_type": "code",
      "source": [
        "plot_history(history)"
      ],
      "metadata": {
        "id": "j1SH-fqVZSEL",
        "outputId": "58cd2888-e0fe-4fb4-90e6-870ffee0b953",
        "colab": {
          "base_uri": "https://localhost:8080/",
          "height": 337
        }
      },
      "execution_count": 17,
      "outputs": [
        {
          "output_type": "display_data",
          "data": {
            "text/plain": [
              "<Figure size 864x360 with 2 Axes>"
            ],
            "image/png": "[encoded data removed]"
          },
          "metadata": {}
        }
      ]
    },
    {
      "cell_type": "code",
      "source": [
        "def get_predikat(ipk):\n",
        "    if ipk >= 3.5:\n",
        "        return 'Sangat Baik'\n",
        "    elif 3.0 <= ipk < 3.5:\n",
        "        return 'Baik'\n",
        "    elif 2.5 <= ipk < 3.0:\n",
        "        return 'Cukup'\n",
        "    else:\n",
        "        return 'Kurang'\n"
      ],
      "metadata": {
        "id": "nikmSucOUwLa"
      },
      "execution_count": 31,
      "outputs": []
    }
  ]
}