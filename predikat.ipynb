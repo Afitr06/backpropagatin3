{
  "nbformat": 4,
  "nbformat_minor": 0,
  "metadata": {
    "colab": {
      "provenance": [],
      "authorship_tag": "ABX9TyPDXDYqrqHJx9SaLDIuaDvZ",
      "include_colab_link": true
    },
    "kernelspec": {
      "name": "python3",
      "display_name": "Python 3"
    },
    "language_info": {
      "name": "python"
    }
  },
  "cells": [
    {
      "cell_type": "markdown",
      "metadata": {
        "id": "view-in-github",
        "colab_type": "text"
      },
      "source": [
        "<a href=\"https://colab.research.google.com/github/Afitr06/backpropagatin3/blob/main/predikat.ipynb\" target=\"_parent\"><img src=\"https://colab.research.google.com/assets/colab-badge.svg\" alt=\"Open In Colab\"/></a>"
      ]
    },
    {
      "cell_type": "code",
      "execution_count": 59,
      "metadata": {
        "id": "Z4YzXvbKl29o"
      },
      "outputs": [],
      "source": [
        "# import packages\n",
        "import pandas as pd\n",
        "import numpy as np"
      ]
    },
    {
      "cell_type": "code",
      "source": [
        "#memasukan data\n",
        "predikat = pd.read_csv ('data.csv')\n",
        "predikat\n",
        "# membaca 5 data\n",
        "\n",
        "predikat.head()"
      ],
      "metadata": {
        "colab": {
          "base_uri": "https://localhost:8080/",
          "height": 206
        },
        "id": "ht7OF8h-mK33",
        "outputId": "053b8ad4-c47a-4840-a4b9-693d0c004e0d"
      },
      "execution_count": 62,
      "outputs": [
        {
          "output_type": "execute_result",
          "data": {
            "text/plain": [
              "       NPM         Nama Lengkap  IPK1  IPK2  IPK3  IPK4  IPK5  IPK6  IPK7  \\\n",
              "0  1706003    Adam Fakhrul Rozi  3.04  3.14  2.94  2.93  2.93  2.99  3.02   \n",
              "1  1706004     Rival Firmansyah  3.10  3.10  3.11  3.06  3.08  3.13  3.18   \n",
              "2  1706005        Ihsan Nugraha  3.92  3.89  3.86  3.83  3.86  3.86  3.86   \n",
              "3  1706007  Rizky Safta Maolani  3.57  3.49  3.41  3.35  3.43  3.43  3.45   \n",
              "4  1706009      Abdul Kamaludin  3.10  3.30  3.21  3.25  3.32  3.37  3.39   \n",
              "\n",
              "   IPK8 Status  \n",
              "0  3.08      L  \n",
              "1  3.25      L  \n",
              "2  3.87      L  \n",
              "3  3.47      L  \n",
              "4  3.44      L  "
            ],
            "text/html": [
              "\n",
              "  <div id=\"df-c2addfdf-a42e-47bd-9588-f9c9a7d63ffe\">\n",
              "    <div class=\"colab-df-container\">\n",
              "      <div>\n",
              "<style scoped>\n",
              "    .dataframe tbody tr th:only-of-type {\n",
              "        vertical-align: middle;\n",
              "    }\n",
              "\n",
              "    .dataframe tbody tr th {\n",
              "        vertical-align: top;\n",
              "    }\n",
              "\n",
              "    .dataframe thead th {\n",
              "        text-align: right;\n",
              "    }\n",
              "</style>\n",
              "<table border=\"1\" class=\"dataframe\">\n",
              "  <thead>\n",
              "    <tr style=\"text-align: right;\">\n",
              "      <th></th>\n",
              "      <th>NPM</th>\n",
              "      <th>Nama Lengkap</th>\n",
              "      <th>IPK1</th>\n",
              "      <th>IPK2</th>\n",
              "      <th>IPK3</th>\n",
              "      <th>IPK4</th>\n",
              "      <th>IPK5</th>\n",
              "      <th>IPK6</th>\n",
              "      <th>IPK7</th>\n",
              "      <th>IPK8</th>\n",
              "      <th>Status</th>\n",
              "    </tr>\n",
              "  </thead>\n",
              "  <tbody>\n",
              "    <tr>\n",
              "      <th>0</th>\n",
              "      <td>1706003</td>\n",
              "      <td>Adam Fakhrul Rozi</td>\n",
              "      <td>3.04</td>\n",
              "      <td>3.14</td>\n",
              "      <td>2.94</td>\n",
              "      <td>2.93</td>\n",
              "      <td>2.93</td>\n",
              "      <td>2.99</td>\n",
              "      <td>3.02</td>\n",
              "      <td>3.08</td>\n",
              "      <td>L</td>\n",
              "    </tr>\n",
              "    <tr>\n",
              "      <th>1</th>\n",
              "      <td>1706004</td>\n",
              "      <td>Rival Firmansyah</td>\n",
              "      <td>3.10</td>\n",
              "      <td>3.10</td>\n",
              "      <td>3.11</td>\n",
              "      <td>3.06</td>\n",
              "      <td>3.08</td>\n",
              "      <td>3.13</td>\n",
              "      <td>3.18</td>\n",
              "      <td>3.25</td>\n",
              "      <td>L</td>\n",
              "    </tr>\n",
              "    <tr>\n",
              "      <th>2</th>\n",
              "      <td>1706005</td>\n",
              "      <td>Ihsan Nugraha</td>\n",
              "      <td>3.92</td>\n",
              "      <td>3.89</td>\n",
              "      <td>3.86</td>\n",
              "      <td>3.83</td>\n",
              "      <td>3.86</td>\n",
              "      <td>3.86</td>\n",
              "      <td>3.86</td>\n",
              "      <td>3.87</td>\n",
              "      <td>L</td>\n",
              "    </tr>\n",
              "    <tr>\n",
              "      <th>3</th>\n",
              "      <td>1706007</td>\n",
              "      <td>Rizky Safta Maolani</td>\n",
              "      <td>3.57</td>\n",
              "      <td>3.49</td>\n",
              "      <td>3.41</td>\n",
              "      <td>3.35</td>\n",
              "      <td>3.43</td>\n",
              "      <td>3.43</td>\n",
              "      <td>3.45</td>\n",
              "      <td>3.47</td>\n",
              "      <td>L</td>\n",
              "    </tr>\n",
              "    <tr>\n",
              "      <th>4</th>\n",
              "      <td>1706009</td>\n",
              "      <td>Abdul Kamaludin</td>\n",
              "      <td>3.10</td>\n",
              "      <td>3.30</td>\n",
              "      <td>3.21</td>\n",
              "      <td>3.25</td>\n",
              "      <td>3.32</td>\n",
              "      <td>3.37</td>\n",
              "      <td>3.39</td>\n",
              "      <td>3.44</td>\n",
              "      <td>L</td>\n",
              "    </tr>\n",
              "  </tbody>\n",
              "</table>\n",
              "</div>\n",
              "      <button class=\"colab-df-convert\" onclick=\"convertToInteractive('df-c2addfdf-a42e-47bd-9588-f9c9a7d63ffe')\"\n",
              "              title=\"Convert this dataframe to an interactive table.\"\n",
              "              style=\"display:none;\">\n",
              "        \n",
              "  <svg xmlns=\"http://www.w3.org/2000/svg\" height=\"24px\"viewBox=\"0 0 24 24\"\n",
              "       width=\"24px\">\n",
              "    <path d=\"M0 0h24v24H0V0z\" fill=\"none\"/>\n",
              "    <path d=\"M18.56 5.44l.94 2.06.94-2.06 2.06-.94-2.06-.94-.94-2.06-.94 2.06-2.06.94zm-11 1L8.5 8.5l.94-2.06 2.06-.94-2.06-.94L8.5 2.5l-.94 2.06-2.06.94zm10 10l.94 2.06.94-2.06 2.06-.94-2.06-.94-.94-2.06-.94 2.06-2.06.94z\"/><path d=\"M17.41 7.96l-1.37-1.37c-.4-.4-.92-.59-1.43-.59-.52 0-1.04.2-1.43.59L10.3 9.45l-7.72 7.72c-.78.78-.78 2.05 0 2.83L4 21.41c.39.39.9.59 1.41.59.51 0 1.02-.2 1.41-.59l7.78-7.78 2.81-2.81c.8-.78.8-2.07 0-2.86zM5.41 20L4 18.59l7.72-7.72 1.47 1.35L5.41 20z\"/>\n",
              "  </svg>\n",
              "      </button>\n",
              "      \n",
              "  <style>\n",
              "    .colab-df-container {\n",
              "      display:flex;\n",
              "      flex-wrap:wrap;\n",
              "      gap: 12px;\n",
              "    }\n",
              "\n",
              "    .colab-df-convert {\n",
              "      background-color: #E8F0FE;\n",
              "      border: none;\n",
              "      border-radius: 50%;\n",
              "      cursor: pointer;\n",
              "      display: none;\n",
              "      fill: #1967D2;\n",
              "      height: 32px;\n",
              "      padding: 0 0 0 0;\n",
              "      width: 32px;\n",
              "    }\n",
              "\n",
              "    .colab-df-convert:hover {\n",
              "      background-color: #E2EBFA;\n",
              "      box-shadow: 0px 1px 2px rgba(60, 64, 67, 0.3), 0px 1px 3px 1px rgba(60, 64, 67, 0.15);\n",
              "      fill: #174EA6;\n",
              "    }\n",
              "\n",
              "    [theme=dark] .colab-df-convert {\n",
              "      background-color: #3B4455;\n",
              "      fill: #D2E3FC;\n",
              "    }\n",
              "\n",
              "    [theme=dark] .colab-df-convert:hover {\n",
              "      background-color: #434B5C;\n",
              "      box-shadow: 0px 1px 3px 1px rgba(0, 0, 0, 0.15);\n",
              "      filter: drop-shadow(0px 1px 2px rgba(0, 0, 0, 0.3));\n",
              "      fill: #FFFFFF;\n",
              "    }\n",
              "  </style>\n",
              "\n",
              "      <script>\n",
              "        const buttonEl =\n",
              "          document.querySelector('#df-c2addfdf-a42e-47bd-9588-f9c9a7d63ffe button.colab-df-convert');\n",
              "        buttonEl.style.display =\n",
              "          google.colab.kernel.accessAllowed ? 'block' : 'none';\n",
              "\n",
              "        async function convertToInteractive(key) {\n",
              "          const element = document.querySelector('#df-c2addfdf-a42e-47bd-9588-f9c9a7d63ffe');\n",
              "          const dataTable =\n",
              "            await google.colab.kernel.invokeFunction('convertToInteractive',\n",
              "                                                     [key], {});\n",
              "          if (!dataTable) return;\n",
              "\n",
              "          const docLinkHtml = 'Like what you see? Visit the ' +\n",
              "            '<a target=\"_blank\" href=https://colab.research.google.com/notebooks/data_table.ipynb>data table notebook</a>'\n",
              "            + ' to learn more about interactive tables.';\n",
              "          element.innerHTML = '';\n",
              "          dataTable['output_type'] = 'display_data';\n",
              "          await google.colab.output.renderOutput(dataTable, element);\n",
              "          const docLink = document.createElement('div');\n",
              "          docLink.innerHTML = docLinkHtml;\n",
              "          element.appendChild(docLink);\n",
              "        }\n",
              "      </script>\n",
              "    </div>\n",
              "  </div>\n",
              "  "
            ]
          },
          "metadata": {},
          "execution_count": 62
        }
      ]
    },
    {
      "cell_type": "code",
      "source": [
        "# melihat data yang akan di gunakan\n",
        "predikat.info()"
      ],
      "metadata": {
        "colab": {
          "base_uri": "https://localhost:8080/"
        },
        "id": "0nvrws2yoAl_",
        "outputId": "57bce1eb-db13-48fb-baf7-0a3d70f9e75b"
      },
      "execution_count": 63,
      "outputs": [
        {
          "output_type": "stream",
          "name": "stdout",
          "text": [
            "<class 'pandas.core.frame.DataFrame'>\n",
            "RangeIndex: 9 entries, 0 to 8\n",
            "Data columns (total 11 columns):\n",
            " #   Column        Non-Null Count  Dtype  \n",
            "---  ------        --------------  -----  \n",
            " 0   NPM           9 non-null      int64  \n",
            " 1   Nama Lengkap  9 non-null      object \n",
            " 2   IPK1          9 non-null      float64\n",
            " 3   IPK2          9 non-null      float64\n",
            " 4   IPK3          9 non-null      float64\n",
            " 5   IPK4          9 non-null      float64\n",
            " 6   IPK5          9 non-null      float64\n",
            " 7   IPK6          9 non-null      float64\n",
            " 8   IPK7          8 non-null      float64\n",
            " 9   IPK8          8 non-null      float64\n",
            " 10  Status        9 non-null      object \n",
            "dtypes: float64(8), int64(1), object(2)\n",
            "memory usage: 920.0+ bytes\n"
          ]
        }
      ]
    },
    {
      "cell_type": "code",
      "source": [
        "# menentukan variable\n",
        "x = predikat.drop([\"IPK8\"], axis = 1)\n",
        "x.head()"
      ],
      "metadata": {
        "colab": {
          "base_uri": "https://localhost:8080/",
          "height": 206
        },
        "id": "0teY1gDTrLdj",
        "outputId": "6280dfae-f055-435d-9e4c-a94df51c65db"
      },
      "execution_count": 64,
      "outputs": [
        {
          "output_type": "execute_result",
          "data": {
            "text/plain": [
              "       NPM         Nama Lengkap  IPK1  IPK2  IPK3  IPK4  IPK5  IPK6  IPK7  \\\n",
              "0  1706003    Adam Fakhrul Rozi  3.04  3.14  2.94  2.93  2.93  2.99  3.02   \n",
              "1  1706004     Rival Firmansyah  3.10  3.10  3.11  3.06  3.08  3.13  3.18   \n",
              "2  1706005        Ihsan Nugraha  3.92  3.89  3.86  3.83  3.86  3.86  3.86   \n",
              "3  1706007  Rizky Safta Maolani  3.57  3.49  3.41  3.35  3.43  3.43  3.45   \n",
              "4  1706009      Abdul Kamaludin  3.10  3.30  3.21  3.25  3.32  3.37  3.39   \n",
              "\n",
              "  Status  \n",
              "0      L  \n",
              "1      L  \n",
              "2      L  \n",
              "3      L  \n",
              "4      L  "
            ],
            "text/html": [
              "\n",
              "  <div id=\"df-09cb3906-09cb-466c-8edb-7866535d07e4\">\n",
              "    <div class=\"colab-df-container\">\n",
              "      <div>\n",
              "<style scoped>\n",
              "    .dataframe tbody tr th:only-of-type {\n",
              "        vertical-align: middle;\n",
              "    }\n",
              "\n",
              "    .dataframe tbody tr th {\n",
              "        vertical-align: top;\n",
              "    }\n",
              "\n",
              "    .dataframe thead th {\n",
              "        text-align: right;\n",
              "    }\n",
              "</style>\n",
              "<table border=\"1\" class=\"dataframe\">\n",
              "  <thead>\n",
              "    <tr style=\"text-align: right;\">\n",
              "      <th></th>\n",
              "      <th>NPM</th>\n",
              "      <th>Nama Lengkap</th>\n",
              "      <th>IPK1</th>\n",
              "      <th>IPK2</th>\n",
              "      <th>IPK3</th>\n",
              "      <th>IPK4</th>\n",
              "      <th>IPK5</th>\n",
              "      <th>IPK6</th>\n",
              "      <th>IPK7</th>\n",
              "      <th>Status</th>\n",
              "    </tr>\n",
              "  </thead>\n",
              "  <tbody>\n",
              "    <tr>\n",
              "      <th>0</th>\n",
              "      <td>1706003</td>\n",
              "      <td>Adam Fakhrul Rozi</td>\n",
              "      <td>3.04</td>\n",
              "      <td>3.14</td>\n",
              "      <td>2.94</td>\n",
              "      <td>2.93</td>\n",
              "      <td>2.93</td>\n",
              "      <td>2.99</td>\n",
              "      <td>3.02</td>\n",
              "      <td>L</td>\n",
              "    </tr>\n",
              "    <tr>\n",
              "      <th>1</th>\n",
              "      <td>1706004</td>\n",
              "      <td>Rival Firmansyah</td>\n",
              "      <td>3.10</td>\n",
              "      <td>3.10</td>\n",
              "      <td>3.11</td>\n",
              "      <td>3.06</td>\n",
              "      <td>3.08</td>\n",
              "      <td>3.13</td>\n",
              "      <td>3.18</td>\n",
              "      <td>L</td>\n",
              "    </tr>\n",
              "    <tr>\n",
              "      <th>2</th>\n",
              "      <td>1706005</td>\n",
              "      <td>Ihsan Nugraha</td>\n",
              "      <td>3.92</td>\n",
              "      <td>3.89</td>\n",
              "      <td>3.86</td>\n",
              "      <td>3.83</td>\n",
              "      <td>3.86</td>\n",
              "      <td>3.86</td>\n",
              "      <td>3.86</td>\n",
              "      <td>L</td>\n",
              "    </tr>\n",
              "    <tr>\n",
              "      <th>3</th>\n",
              "      <td>1706007</td>\n",
              "      <td>Rizky Safta Maolani</td>\n",
              "      <td>3.57</td>\n",
              "      <td>3.49</td>\n",
              "      <td>3.41</td>\n",
              "      <td>3.35</td>\n",
              "      <td>3.43</td>\n",
              "      <td>3.43</td>\n",
              "      <td>3.45</td>\n",
              "      <td>L</td>\n",
              "    </tr>\n",
              "    <tr>\n",
              "      <th>4</th>\n",
              "      <td>1706009</td>\n",
              "      <td>Abdul Kamaludin</td>\n",
              "      <td>3.10</td>\n",
              "      <td>3.30</td>\n",
              "      <td>3.21</td>\n",
              "      <td>3.25</td>\n",
              "      <td>3.32</td>\n",
              "      <td>3.37</td>\n",
              "      <td>3.39</td>\n",
              "      <td>L</td>\n",
              "    </tr>\n",
              "  </tbody>\n",
              "</table>\n",
              "</div>\n",
              "      <button class=\"colab-df-convert\" onclick=\"convertToInteractive('df-09cb3906-09cb-466c-8edb-7866535d07e4')\"\n",
              "              title=\"Convert this dataframe to an interactive table.\"\n",
              "              style=\"display:none;\">\n",
              "        \n",
              "  <svg xmlns=\"http://www.w3.org/2000/svg\" height=\"24px\"viewBox=\"0 0 24 24\"\n",
              "       width=\"24px\">\n",
              "    <path d=\"M0 0h24v24H0V0z\" fill=\"none\"/>\n",
              "    <path d=\"M18.56 5.44l.94 2.06.94-2.06 2.06-.94-2.06-.94-.94-2.06-.94 2.06-2.06.94zm-11 1L8.5 8.5l.94-2.06 2.06-.94-2.06-.94L8.5 2.5l-.94 2.06-2.06.94zm10 10l.94 2.06.94-2.06 2.06-.94-2.06-.94-.94-2.06-.94 2.06-2.06.94z\"/><path d=\"M17.41 7.96l-1.37-1.37c-.4-.4-.92-.59-1.43-.59-.52 0-1.04.2-1.43.59L10.3 9.45l-7.72 7.72c-.78.78-.78 2.05 0 2.83L4 21.41c.39.39.9.59 1.41.59.51 0 1.02-.2 1.41-.59l7.78-7.78 2.81-2.81c.8-.78.8-2.07 0-2.86zM5.41 20L4 18.59l7.72-7.72 1.47 1.35L5.41 20z\"/>\n",
              "  </svg>\n",
              "      </button>\n",
              "      \n",
              "  <style>\n",
              "    .colab-df-container {\n",
              "      display:flex;\n",
              "      flex-wrap:wrap;\n",
              "      gap: 12px;\n",
              "    }\n",
              "\n",
              "    .colab-df-convert {\n",
              "      background-color: #E8F0FE;\n",
              "      border: none;\n",
              "      border-radius: 50%;\n",
              "      cursor: pointer;\n",
              "      display: none;\n",
              "      fill: #1967D2;\n",
              "      height: 32px;\n",
              "      padding: 0 0 0 0;\n",
              "      width: 32px;\n",
              "    }\n",
              "\n",
              "    .colab-df-convert:hover {\n",
              "      background-color: #E2EBFA;\n",
              "      box-shadow: 0px 1px 2px rgba(60, 64, 67, 0.3), 0px 1px 3px 1px rgba(60, 64, 67, 0.15);\n",
              "      fill: #174EA6;\n",
              "    }\n",
              "\n",
              "    [theme=dark] .colab-df-convert {\n",
              "      background-color: #3B4455;\n",
              "      fill: #D2E3FC;\n",
              "    }\n",
              "\n",
              "    [theme=dark] .colab-df-convert:hover {\n",
              "      background-color: #434B5C;\n",
              "      box-shadow: 0px 1px 3px 1px rgba(0, 0, 0, 0.15);\n",
              "      filter: drop-shadow(0px 1px 2px rgba(0, 0, 0, 0.3));\n",
              "      fill: #FFFFFF;\n",
              "    }\n",
              "  </style>\n",
              "\n",
              "      <script>\n",
              "        const buttonEl =\n",
              "          document.querySelector('#df-09cb3906-09cb-466c-8edb-7866535d07e4 button.colab-df-convert');\n",
              "        buttonEl.style.display =\n",
              "          google.colab.kernel.accessAllowed ? 'block' : 'none';\n",
              "\n",
              "        async function convertToInteractive(key) {\n",
              "          const element = document.querySelector('#df-09cb3906-09cb-466c-8edb-7866535d07e4');\n",
              "          const dataTable =\n",
              "            await google.colab.kernel.invokeFunction('convertToInteractive',\n",
              "                                                     [key], {});\n",
              "          if (!dataTable) return;\n",
              "\n",
              "          const docLinkHtml = 'Like what you see? Visit the ' +\n",
              "            '<a target=\"_blank\" href=https://colab.research.google.com/notebooks/data_table.ipynb>data table notebook</a>'\n",
              "            + ' to learn more about interactive tables.';\n",
              "          element.innerHTML = '';\n",
              "          dataTable['output_type'] = 'display_data';\n",
              "          await google.colab.output.renderOutput(dataTable, element);\n",
              "          const docLink = document.createElement('div');\n",
              "          docLink.innerHTML = docLinkHtml;\n",
              "          element.appendChild(docLink);\n",
              "        }\n",
              "      </script>\n",
              "    </div>\n",
              "  </div>\n",
              "  "
            ]
          },
          "metadata": {},
          "execution_count": 64
        }
      ]
    },
    {
      "cell_type": "code",
      "source": [
        "# Menentukan variable independen\n",
        "y = predikat[\"IPK8\"]\n",
        "y.head()"
      ],
      "metadata": {
        "colab": {
          "base_uri": "https://localhost:8080/"
        },
        "id": "v6QuxDC6sMDV",
        "outputId": "d77b6ff1-9351-41aa-fc61-971def83d7f3"
      },
      "execution_count": 66,
      "outputs": [
        {
          "output_type": "execute_result",
          "data": {
            "text/plain": [
              "0    3.08\n",
              "1    3.25\n",
              "2    3.87\n",
              "3    3.47\n",
              "4    3.44\n",
              "Name: IPK8, dtype: float64"
            ]
          },
          "metadata": {},
          "execution_count": 66
        }
      ]
    },
    {
      "cell_type": "code",
      "source": [
        "# import packages\n",
        "from sklearn.model_selection import train_test_split\n",
        "\n"
      ],
      "metadata": {
        "id": "dXVWo9NysbXe"
      },
      "execution_count": 67,
      "outputs": []
    },
    {
      "cell_type": "code",
      "source": [
        "# membagi data training dan data testing\n",
        "x_train, x_test, y_train, y_test =train_test_split(x, y, test_size=0.20)\n",
        "\n"
      ],
      "metadata": {
        "id": "ql4Z9IX2u-M-"
      },
      "execution_count": 68,
      "outputs": []
    },
    {
      "cell_type": "code",
      "source": [
        "# mengaktifkan packages dan syntax untuk mengubah skala data\n",
        "from sklearn.preprocessing import StandardScaler\n",
        "\n",
        "Scaler = StandardScaler()\n",
        "Scaler.fit(x_train)\n",
        "\n",
        "x_train = Scaler.transform(x_train)\n",
        "x_test = Scaler.transform(x_test)\n",
        "\n"
      ],
      "metadata": {
        "id": "1gvDI4l_vUUr"
      },
      "execution_count": null,
      "outputs": []
    },
    {
      "cell_type": "code",
      "source": [
        "# import packages untuk klasifik\n",
        "from sklearn.neighbors import KNeighborsClassifier"
      ],
      "metadata": {
        "id": "Z_y0juz-xTBz"
      },
      "execution_count": 71,
      "outputs": []
    },
    {
      "cell_type": "code",
      "source": [
        "# fungsi klasifikasi\n",
        "knn = KNeighborsClassifier (n_neighbors=4)"
      ],
      "metadata": {
        "id": "5jbusY8VyEjZ"
      },
      "execution_count": 72,
      "outputs": []
    },
    {
      "cell_type": "code",
      "source": [
        "# Memasukan data training\n",
        "knn.fit(x_train, y_train)"
      ],
      "metadata": {
        "id": "BYSkJANKyUMd"
      },
      "execution_count": null,
      "outputs": []
    },
    {
      "cell_type": "code",
      "source": [
        "# membentuk predik\n",
        "y_pren = knn.predict (x_test)\n",
        "y_pren"
      ],
      "metadata": {
        "id": "ME10N7vnyjoc"
      },
      "execution_count": null,
      "outputs": []
    },
    {
      "cell_type": "code",
      "source": [
        "# Membentuk probabilitas\n",
        "knn.predict_proba(x_test)"
      ],
      "metadata": {
        "id": "YwNHIFw0y4aG"
      },
      "execution_count": null,
      "outputs": []
    },
    {
      "cell_type": "code",
      "source": [
        "# import packages\n",
        "from sklearn.metrics import classification_report, confusion_matrix"
      ],
      "metadata": {
        "id": "QaKz3qH3zGP8"
      },
      "execution_count": 76,
      "outputs": []
    },
    {
      "cell_type": "code",
      "source": [
        "# menampilkan matrix\n",
        "print(confusion_matrix(y_test, y_pred))"
      ],
      "metadata": {
        "id": "R7Acdagv0ERn"
      },
      "execution_count": null,
      "outputs": []
    },
    {
      "cell_type": "code",
      "source": [
        "# ketepatan hasil predik\n",
        "print(classification_report(y_test, y_pred))"
      ],
      "metadata": {
        "id": "k14zq9BI0bgS"
      },
      "execution_count": null,
      "outputs": []
    },
    {
      "cell_type": "code",
      "source": [
        "def get_predikat(ipk):\n",
        "    if ipk >= 3.5:\n",
        "        return 'Sangat Baik'\n",
        "    elif 3.0 <= ipk < 3.5:\n",
        "        return 'Baik'\n",
        "    elif 2.5 <= ipk < 3.0:\n",
        "        return 'Cukup'\n",
        "    else:\n",
        "        return 'Kurang'\n"
      ],
      "metadata": {
        "id": "nikmSucOUwLa"
      },
      "execution_count": 79,
      "outputs": []
    }
  ]
}