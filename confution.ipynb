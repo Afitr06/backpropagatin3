{
  "nbformat": 4,
  "nbformat_minor": 0,
  "metadata": {
    "colab": {
      "provenance": [],
      "authorship_tag": "ABX9TyPp0bQDRqLtkAN6MYrXQb4E",
      "include_colab_link": true
    },
    "kernelspec": {
      "name": "python3",
      "display_name": "Python 3"
    },
    "language_info": {
      "name": "python"
    }
  },
  "cells": [
    {
      "cell_type": "markdown",
      "metadata": {
        "id": "view-in-github",
        "colab_type": "text"
      },
      "source": [
        "<a href=\"https://colab.research.google.com/github/Afitr06/backpropagatin3/blob/main/confution.ipynb\" target=\"_parent\"><img src=\"https://colab.research.google.com/assets/colab-badge.svg\" alt=\"Open In Colab\"/></a>"
      ]
    },
    {
      "cell_type": "code",
      "source": [
        "import numpy as np\n",
        "import matplotlib.pyplot as plt\n",
        "\n",
        "from sklearn.metrics import confusion_matrix\n",
        "from sklearn.metrics import classification_report"
      ],
      "metadata": {
        "id": "6L9G4oJFxmI9"
      },
      "execution_count": 2,
      "outputs": []
    },
    {
      "cell_type": "code",
      "source": [
        "data_asli = ['data.csv']\n",
        "\n",
        "data_prediksi = ['dataset']"
      ],
      "metadata": {
        "id": "Js_dVz-R2QH0"
      },
      "execution_count": 29,
      "outputs": []
    },
    {
      "cell_type": "code",
      "source": [
        "confusion_mtrx = confusion_matrix(data_asli, data_prediksi)"
      ],
      "metadata": {
        "id": "qfpD1jdv2_0y"
      },
      "execution_count": 30,
      "outputs": []
    },
    {
      "cell_type": "code",
      "source": [
        "plt.imshow(confusion_mtrx, cmap=plt.cm.gray)\n",
        "plt.title(\"confusion matrix\")\n",
        "plt.colorbar()\n",
        "plt.xlabel('data_prediksi')\n",
        "plt.ylabel('data_asli')\n",
        "plt.show()"
      ],
      "metadata": {
        "colab": {
          "base_uri": "https://localhost:8080/",
          "height": 296
        },
        "id": "usGIxjsD3ziO",
        "outputId": "9a6442b9-54e9-4a62-a284-43b0e6a6c229"
      },
      "execution_count": 31,
      "outputs": [
        {
          "output_type": "display_data",
          "data": {
            "text/plain": [
              "<Figure size 432x288 with 2 Axes>"
            ],
            "image/png": "[encoded data removed]"
          },
          "metadata": {
            "needs_background": "light"
          }
        }
      ]
    },
    {
      "cell_type": "code",
      "source": [
        "target = ['data.csv']\n",
        "print(classification_report(data_asli, data_prediksi))"
      ],
      "metadata": {
        "id": "deVNuK5irPqY"
      },
      "execution_count": null,
      "outputs": []
    }
  ]
}