{
  "nbformat": 4,
  "nbformat_minor": 0,
  "metadata": {
    "colab": {
      "provenance": [],
      "authorship_tag": "ABX9TyMcwz6spw1+/yeAHZDW/ubW",
      "include_colab_link": true
    },
    "kernelspec": {
      "name": "python3",
      "display_name": "Python 3"
    },
    "language_info": {
      "name": "python"
    }
  },
  "cells": [
    {
      "cell_type": "markdown",
      "metadata": {
        "id": "view-in-github",
        "colab_type": "text"
      },
      "source": [
        "<a href=\"https://colab.research.google.com/github/Afitr06/backpropagatin3/blob/main/prediksi2.ipynb\" target=\"_parent\"><img src=\"https://colab.research.google.com/assets/colab-badge.svg\" alt=\"Open In Colab\"/></a>"
      ]
    },
    {
      "cell_type": "code",
      "execution_count": null,
      "metadata": {
        "id": "cEyNcG3f2qNP"
      },
      "outputs": [],
      "source": [
        "import numpy as np"
      ]
    },
    {
      "cell_type": "code",
      "source": [
        "from google.colab import files\n",
        "\n",
        "uploaded = files.upload()\n"
      ],
      "metadata": {
        "id": "nuLZ11iL2ue_"
      },
      "execution_count": null,
      "outputs": []
    },
    {
      "cell_type": "code",
      "source": [
        "with open(list(uploaded.keys())[0], 'r') as f:\n",
        "  print(f.read())\n"
      ],
      "metadata": {
        "id": "nSiX_nJk2wy0"
      },
      "execution_count": null,
      "outputs": []
    },
    {
      "cell_type": "code",
      "source": [
        "import pandas as pd\n",
        "from keras.models import Sequential\n",
        "from keras.layers import Dense\n"
      ],
      "metadata": {
        "id": "Tm4Mlen920L-"
      },
      "execution_count": null,
      "outputs": []
    },
    {
      "cell_type": "code",
      "source": [
        "# dataset\n",
        "df = pd.read_csv('data.csv')\n",
        "\n",
        "# Pisahkan data menjadi set pelatihan dan pengujian\n",
        "X_train, X_test, y_train, y_test = train_test_split(df.drop('IPK', axis=1), df['IPK'], test_size=0.2)\n"
      ],
      "metadata": {
        "id": "haXchla122Zy"
      },
      "execution_count": null,
      "outputs": []
    },
    {
      "cell_type": "code",
      "source": [
        "# Buat model dengan satu lapisan tersembunyi dengan 16 unit\n",
        "model = Sequential()\n",
        "model.add(Dense(16, input_dim=X_train.shape[1], activation='relu'))\n",
        "model.add(Dense(1))\n"
      ],
      "metadata": {
        "id": "5fFOBAOH24xc"
      },
      "execution_count": null,
      "outputs": []
    },
    {
      "cell_type": "code",
      "source": [
        "# Kompilasi model menggunakan kesalahan kuadrat rata-rata sebagai fungsi kerugian dan M.Fitroh Sodikin sebagai pengoptimal\n",
        "model.compile(loss='mean_squared_error', optimizer='M.Fitroh Sodikin')\n"
      ],
      "metadata": {
        "id": "DYRXB7hP28bj"
      },
      "execution_count": null,
      "outputs": []
    },
    {
      "cell_type": "code",
      "source": [
        "# Latih model menggunakan data pelatihan\n",
        "model.fit(X_train, y_train, epochs=50, batch_size=16, verbose=0)\n"
      ],
      "metadata": {
        "id": "6WT6bh842_Iw"
      },
      "execution_count": null,
      "outputs": []
    },
    {
      "cell_type": "code",
      "source": [
        "# Uji model menggunakan data uji\n",
        "predictions = model.predict(X_test)\n",
        "\n",
        "# Evaluasi model menggunakan MSE atau MAE\n",
        "mse = ((predictions - y_test) ** 2).mean()\n",
        "mae = abs(predictions - y_test).mean()\n",
        "\n",
        "print(f'MSE: {mse:.2f}')\n",
        "print(f'MAE: {mae:.2f}')\n"
      ],
      "metadata": {
        "id": "YdyYBAOQ3MNa"
      },
      "execution_count": null,
      "outputs": []
    },
    {
      "cell_type": "code",
      "source": [
        "# Instal library TensorFlow\n",
        "!pip install tensorflow\n"
      ],
      "metadata": {
        "id": "MvrLDwRH4Avk"
      },
      "execution_count": null,
      "outputs": []
    },
    {
      "cell_type": "code",
      "source": [
        "# Import libraries\n",
        "import tensorflow as tf\n",
        "import numpy as np\n",
        "import pandas as pd\n"
      ],
      "metadata": {
        "id": "AcI7jCl24Ipz"
      },
      "execution_count": null,
      "outputs": []
    },
    {
      "cell_type": "code",
      "source": [
        "# Load the dataset\n",
        "df = pd.read_csv('gpa_data.csv')\n"
      ],
      "metadata": {
        "id": "ulXnPCYt4LME"
      },
      "execution_count": null,
      "outputs": []
    },
    {
      "cell_type": "code",
      "source": [
        "# Pisahkan dataset menjadi fitur dan label\n",
        "X = df.drop('GPA', axis=1)\n",
        "y = df['GPA']\n"
      ],
      "metadata": {
        "id": "0GfSVbh94OQ9"
      },
      "execution_count": null,
      "outputs": []
    },
    {
      "cell_type": "code",
      "source": [
        "# Pisahkan data menjadi set pelatihan dan pengujian\n",
        "X_train, X_test, y_train, y_test = train_test_split(X, y, test_size=0.2)\n"
      ],
      "metadata": {
        "id": "uLyVONqn4RIg"
      },
      "execution_count": null,
      "outputs": []
    },
    {
      "cell_type": "code",
      "source": [
        "# Bangun modelnya\n",
        "model = tf.keras.Sequential()\n",
        "model.add(tf.keras.layers.Dense(units=64, activation='relu', input_dim=X_train.shape[1]))\n",
        "model.add(tf.keras.layers.Dense(units=32, activation='relu'))\n",
        "model.add(tf.keras.layers.Dense(units=1))\n"
      ],
      "metadata": {
        "id": "Ses5vvom4UUG"
      },
      "execution_count": null,
      "outputs": []
    },
    {
      "cell_type": "code",
      "source": [
        "# Compile the model\n",
        "model.compile(optimizer='adam', loss='mean_squared_error')\n"
      ],
      "metadata": {
        "id": "Ec2k3OHo4XQK"
      },
      "execution_count": null,
      "outputs": []
    },
    {
      "cell_type": "code",
      "source": [
        "# Train the model\n",
        "model.fit(X_train, y_train, epochs=10, batch_size=32)\n"
      ],
      "metadata": {
        "id": "Um9iK3Yf4ZqH"
      },
      "execution_count": null,
      "outputs": []
    },
    {
      "cell_type": "code",
      "source": [
        "# Evaluate the model on the test set\n",
        "loss = model.evaluate(X_test, y_test)\n",
        "print(\"Test set MSE: {:.4f}\".format(loss))\n"
      ],
      "metadata": {
        "id": "ca0yyBBh4cUc"
      },
      "execution_count": null,
      "outputs": []
    },
    {
      "cell_type": "code",
      "source": [
        "# Membuat prediksi pada data baru\n",
        "new_data = np.array([[3.8, 3.5, 3.0, 2.9], [3.5, 3.3, 3.0, 2.7]])\n",
        "predictions = model.predict(new_data)\n",
        "print(\"Predicted GPA: \", predictions)"
      ],
      "metadata": {
        "id": "YEXFERXw4e-1"
      },
      "execution_count": null,
      "outputs": []
    }
  ]
}